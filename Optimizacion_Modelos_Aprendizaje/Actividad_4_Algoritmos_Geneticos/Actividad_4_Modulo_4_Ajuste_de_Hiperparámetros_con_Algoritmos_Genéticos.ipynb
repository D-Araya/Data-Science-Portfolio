{
  "cells": [
    {
      "cell_type": "markdown",
      "source": [
        "### **Actividad: Ajuste de Hiperparámetros con Algoritmos Genéticos**\n",
        "\n",
        "En esta actividad, se utilizará un **algoritmo genético** para optimizar los hiperparámetros de un clasificador `RandomForestClassifier`. El objetivo es encontrar la mejor combinación de `n_estimators`, `max_depth` y `min_samples_split` para el conjunto de datos de Cáncer de Mama de Scikit-learn, maximizando la métrica F1-score.\n",
        "\n",
        "Se comparará el rendimiento del modelo optimizado con un modelo base para evaluar la efectividad del enfoque genético.\n",
        "\n",
        "-----\n",
        "\n",
        "## 1\\. Carga y Preprocesamiento de Datos 📊\n",
        "\n",
        "Primero, cargamos el conjunto de datos `Breast Cancer Wisconsin` de Scikit-learn. Luego, separamos las características y la variable objetivo, estandarizamos las variables numéricas con `StandardScaler` para que tengan una media de 0 y una desviación estándar de 1, y finalmente dividimos los datos en conjuntos de entrenamiento (70%) y prueba (30%)."
      ],
      "metadata": {
        "id": "_TYf3QlTSExn"
      }
    },
    {
      "cell_type": "code",
      "source": [
        "!pip install deap"
      ],
      "metadata": {
        "colab": {
          "base_uri": "https://localhost:8080/"
        },
        "collapsed": true,
        "id": "-YpthtOPSo2b",
        "outputId": "bb72538a-e620-4f61-df59-60d9e8bc8171"
      },
      "execution_count": 2,
      "outputs": [
        {
          "output_type": "stream",
          "name": "stdout",
          "text": [
            "Collecting deap\n",
            "  Downloading deap-1.4.3-cp311-cp311-manylinux_2_5_x86_64.manylinux1_x86_64.manylinux_2_17_x86_64.manylinux2014_x86_64.whl.metadata (13 kB)\n",
            "Requirement already satisfied: numpy in /usr/local/lib/python3.11/dist-packages (from deap) (2.0.2)\n",
            "Downloading deap-1.4.3-cp311-cp311-manylinux_2_5_x86_64.manylinux1_x86_64.manylinux_2_17_x86_64.manylinux2014_x86_64.whl (135 kB)\n",
            "\u001b[?25l   \u001b[90m━━━━━━━━━━━━━━━━━━━━━━━━━━━━━━━━━━━━━━━━\u001b[0m \u001b[32m0.0/135.6 kB\u001b[0m \u001b[31m?\u001b[0m eta \u001b[36m-:--:--\u001b[0m\r\u001b[2K   \u001b[90m━━━━━━━━━━━━━━━━━━━━━━━━━━━━━━━━━━━━━━━━\u001b[0m \u001b[32m135.6/135.6 kB\u001b[0m \u001b[31m4.4 MB/s\u001b[0m eta \u001b[36m0:00:00\u001b[0m\n",
            "\u001b[?25hInstalling collected packages: deap\n",
            "Successfully installed deap-1.4.3\n"
          ]
        }
      ]
    },
    {
      "cell_type": "code",
      "source": [
        "# Importación de librerías necesarias\n",
        "import pandas as pd\n",
        "import numpy as np\n",
        "import random\n",
        "import time\n",
        "import matplotlib.pyplot as plt\n",
        "\n",
        "# Herramientas de Scikit-learn\n",
        "from sklearn.datasets import load_breast_cancer\n",
        "from sklearn.model_selection import train_test_split, cross_val_score\n",
        "from sklearn.preprocessing import StandardScaler\n",
        "from sklearn.ensemble import RandomForestClassifier\n",
        "from sklearn.metrics import classification_report, f1_score, accuracy_score\n",
        "\n",
        "# Librería para algoritmos genéticos (DEAP)\n",
        "from deap import base, creator, tools, algorithms\n",
        "\n",
        "# --- 1.1. CARGA Y PREPROCESAMIENTO DE DATOS ---\n",
        "\n",
        "# Cargar el conjunto de datos de Cáncer de Mama\n",
        "cancer = load_breast_cancer()\n",
        "X, y = cancer.data, cancer.target\n",
        "\n",
        "# Dividir los datos: 70% para entrenamiento, 30% para prueba\n",
        "# random_state asegura que la división sea siempre la misma para poder reproducir los resultados\n",
        "X_train, X_test, y_train, y_test = train_test_split(X, y, test_size=0.3, random_state=42, stratify=y)\n",
        "\n",
        "# Escalar las variables para que el modelo no se vea sesgado por la magnitud de los valores\n",
        "scaler = StandardScaler()\n",
        "# Se ajusta el escalador SOLO con los datos de entrenamiento para evitar fuga de datos\n",
        "X_train_scaled = scaler.fit_transform(X_train)\n",
        "# Se aplica la misma transformación a los datos de prueba\n",
        "X_test_scaled = scaler.transform(X_test)\n",
        "\n",
        "print(\"### 1. Carga y Preprocesamiento de Datos ###\")\n",
        "print(f\"Forma del conjunto de características (X): {X.shape}\")\n",
        "print(f\"Forma del conjunto de entrenamiento (X_train): {X_train_scaled.shape}\")\n",
        "print(f\"Forma del conjunto de prueba (X_test): {X_test_scaled.shape}\")\n",
        "print(f\"Distribución de clases en y_train: {np.bincount(y_train)}\")\n",
        "print(f\"Distribución de clases en y_test: {np.bincount(y_test)}\")"
      ],
      "outputs": [
        {
          "output_type": "stream",
          "name": "stdout",
          "text": [
            "### 1. Carga y Preprocesamiento de Datos ###\n",
            "Forma del conjunto de características (X): (569, 30)\n",
            "Forma del conjunto de entrenamiento (X_train): (398, 30)\n",
            "Forma del conjunto de prueba (X_test): (171, 30)\n",
            "Distribución de clases en y_train: [148 250]\n",
            "Distribución de clases en y_test: [ 64 107]\n"
          ]
        }
      ],
      "execution_count": 32,
      "metadata": {
        "colab": {
          "base_uri": "https://localhost:8080/"
        },
        "id": "twXjLQIDSExo",
        "outputId": "a35cf08c-3ec7-4782-c4f1-c95fa73b2c38"
      }
    },
    {
      "cell_type": "code",
      "source": [
        "# --- 1.2. MODELO BASE ---\n",
        "\n",
        "# Inicializar el clasificador con parámetros por defecto y un random_state para reproducibilidad\n",
        "base_model = RandomForestClassifier(random_state=42)\n",
        "\n",
        "# Medir el tiempo de entrenamiento\n",
        "start_time_base = time.time()\n",
        "base_model.fit(X_train_scaled, y_train)\n",
        "training_time_base = time.time() - start_time_base\n",
        "\n",
        "# Realizar predicciones en el conjunto de prueba\n",
        "y_pred_base = base_model.predict(X_test_scaled)\n",
        "\n",
        "# Calcular las métricas de evaluación\n",
        "accuracy_base = accuracy_score(y_test, y_pred_base)\n",
        "f1_base = f1_score(y_test, y_pred_base)\n",
        "\n",
        "# Imprimir las métricas y el reporte de clasificación\n",
        "print(\"\\n### 2. Resultados del Modelo Base ###\")\n",
        "print(f\"Accuracy: {accuracy_base:.4f}\")\n",
        "print(f\"F1-Score: {f1_base:.4f}\")\n",
        "print(f\"Tiempo de entrenamiento: {training_time_base:.4f} segundos\")\n",
        "print(\"\\nReporte de Clasificación del Modelo Base:\")\n",
        "print(classification_report(y_test, y_pred_base))"
      ],
      "outputs": [
        {
          "output_type": "stream",
          "name": "stdout",
          "text": [
            "\n",
            "### 2. Resultados del Modelo Base ###\n",
            "Accuracy: 0.9357\n",
            "F1-Score: 0.9488\n",
            "Tiempo de entrenamiento: 0.2298 segundos\n",
            "\n",
            "Reporte de Clasificación del Modelo Base:\n",
            "              precision    recall  f1-score   support\n",
            "\n",
            "           0       0.92      0.91      0.91        64\n",
            "           1       0.94      0.95      0.95       107\n",
            "\n",
            "    accuracy                           0.94       171\n",
            "   macro avg       0.93      0.93      0.93       171\n",
            "weighted avg       0.94      0.94      0.94       171\n",
            "\n"
          ]
        }
      ],
      "execution_count": 33,
      "metadata": {
        "colab": {
          "base_uri": "https://localhost:8080/"
        },
        "id": "gFBveh-uSExq",
        "outputId": "a7769976-fd15-487e-c1bb-ed7eefb9670c"
      }
    },
    {
      "cell_type": "markdown",
      "source": [
        "----\n",
        "### 2\\. Definir Entorno Genético con DEAP 🧬\n",
        "\n",
        "Aquí configuramos el algoritmo genético.\n",
        "\n",
        "  * **Individuo**: Cada \"individuo\" representará una solución, es decir, una combinación de hiperparámetros (`n_estimators`, `max_depth`, `min_samples_split`).\n",
        "  * **Población**: Un conjunto de individuos que \"evolucionarán\".\n",
        "  * **Operadores Genéticos**:\n",
        "      * **Selección (`selTournament`)**: Elige a los mejores individuos para que pasen sus genes a la siguiente generación.\n",
        "      * **Cruce (`cxTwoPoint`)**: Combina los genes de dos padres para crear descendencia.\n",
        "      * **Mutación (`mutUniformInt`)**: Altera aleatoriamente un gen para introducir diversidad y evitar que la búsqueda se estanque.\n",
        "\n",
        "<!-- end list -->"
      ],
      "metadata": {
        "id": "tqBIPOkiSExq"
      }
    },
    {
      "cell_type": "code",
      "source": [
        "# --- 2. DEFINIR ENTORNO GENÉTICO ---\n",
        "from deap import base, creator, tools\n",
        "\n",
        "# Definir el objetivo: maximizar el F1-score (el peso es 1.0)\n",
        "creator.create(\"FitnessMax\", base.Fitness, weights=(1.0,))\n",
        "# Definir la estructura del individuo: una lista de genes con un atributo de fitness\n",
        "creator.create(\"Individual\", list, fitness=creator.FitnessMax)\n",
        "\n",
        "# Inicializar el toolbox, que contendrá las herramientas genéticas\n",
        "toolbox = base.Toolbox()\n",
        "\n",
        "# Definir los genes: cada gen es un hiperparámetro con un rango de valores enteros\n",
        "# 'n_estimators': Número de árboles en el bosque (entre 50 y 300)\n",
        "toolbox.register(\"n_estimators\", random.randint, 50, 300)\n",
        "# 'max_depth': Profundidad máxima de los árboles (entre 5 y 50)\n",
        "toolbox.register(\"max_depth\", random.randint, 5, 50)\n",
        "# 'min_samples_split': Muestras mínimas para dividir un nodo (entre 2 y 20)\n",
        "toolbox.register(\"min_samples_split\", random.randint, 2, 20)\n",
        "\n",
        "# Definir la estructura del individuo: una secuencia de 3 genes\n",
        "toolbox.register(\"individual\", tools.initCycle, creator.Individual,\n",
        "                 (toolbox.n_estimators, toolbox.max_depth, toolbox.min_samples_split), n=1)\n",
        "\n",
        "# Definir la población: una lista de individuos\n",
        "toolbox.register(\"population\", tools.initRepeat, list, toolbox.individual)\n",
        "\n",
        "# Registrar los operadores genéticos\n",
        "toolbox.register(\"mate\", tools.cxTwoPoint) # Cruce de dos puntos\n",
        "toolbox.register(\"mutate\", tools.mutUniformInt, low=[50, 5, 2], up=[300, 50, 20], indpb=0.2) # Mutación\n",
        "toolbox.register(\"select\", tools.selTournament, tournsize=3) # Selección por torneo"
      ],
      "outputs": [
        {
          "output_type": "stream",
          "name": "stderr",
          "text": [
            "/usr/local/lib/python3.11/dist-packages/deap/creator.py:185: RuntimeWarning: A class named 'FitnessMax' has already been created and it will be overwritten. Consider deleting previous creation of that class or rename it.\n",
            "  warnings.warn(\"A class named '{0}' has already been created and it \"\n",
            "/usr/local/lib/python3.11/dist-packages/deap/creator.py:185: RuntimeWarning: A class named 'Individual' has already been created and it will be overwritten. Consider deleting previous creation of that class or rename it.\n",
            "  warnings.warn(\"A class named '{0}' has already been created and it \"\n"
          ]
        }
      ],
      "execution_count": 34,
      "metadata": {
        "colab": {
          "base_uri": "https://localhost:8080/"
        },
        "id": "CxL5ncLpSExr",
        "outputId": "6a1148d6-33f8-455c-8655-fbddfd4beeee"
      }
    },
    {
      "cell_type": "markdown",
      "source": [
        "-----\n",
        "\n",
        "### 3\\. Definir Función de Aptitud (Fitness) 🏋️‍♀️\n",
        "\n",
        "La función de aptitud evalúa qué tan \"bueno\" es un individuo. Para cada combinación de hiperparámetros, entrena un `RandomForestClassifier` usando validación cruzada (`cv=3`) y devuelve el F1-score promedio. Este valor es el que el algoritmo genético intentará maximizar."
      ],
      "metadata": {
        "id": "VR08EQFwSExr"
      }
    },
    {
      "cell_type": "code",
      "source": [
        "# --- 3. FUNCIÓN DE APTITUD ---\n",
        "\n",
        "# El caché acelera el proceso al guardar los resultados de individuos ya evaluados\n",
        "fitness_cache = {}\n",
        "\n",
        "def evaluate_fitness(individual):\n",
        "    # Decodificar los genes del individuo a una tupla para usarla como clave de caché\n",
        "    hyperparams = tuple(individual)\n",
        "    if hyperparams in fitness_cache:\n",
        "        return fitness_cache[hyperparams]\n",
        "\n",
        "    # Crear un clasificador con los hiperparámetros del individuo\n",
        "    clf = RandomForestClassifier(\n",
        "        n_estimators=individual[0],\n",
        "        max_depth=individual[1],\n",
        "        min_samples_split=individual[2],\n",
        "        random_state=42,\n",
        "        n_jobs=-1  # Usar todos los núcleos de CPU\n",
        "    )\n",
        "\n",
        "    # Calcular el F1-score promedio usando validación cruzada de 3 divisiones\n",
        "    # Se usa el conjunto de entrenamiento para la evaluación\n",
        "    scores = cross_val_score(clf, X_train_scaled, y_train, cv=3, scoring='f1')\n",
        "\n",
        "    # El fitness es el promedio del F1-score. Debe devolverse como una tupla.\n",
        "    fitness = (np.mean(scores),)\n",
        "    fitness_cache[hyperparams] = fitness\n",
        "    return fitness\n",
        "\n",
        "# Registrar la función de evaluación en el toolbox\n",
        "toolbox.register(\"evaluate\", evaluate_fitness)"
      ],
      "outputs": [],
      "execution_count": 35,
      "metadata": {
        "id": "_mYyJ_kdSExr"
      }
    },
    {
      "cell_type": "markdown",
      "source": [
        "-----\n",
        "\n",
        "### 4\\. Ejecución del Algoritmo Genético 🚀\n",
        "\n",
        "Aquí se ejecuta el ciclo evolutivo.\n",
        "\n",
        "  * **Población inicial**: 20 individuos.\n",
        "  * **Generaciones**: 25.\n",
        "  * **Estadísticas**: Se registran el F1-score máximo y promedio de cada generación para visualizar el progreso.\n",
        "  * **Salón de la Fama (`HallOfFame`)**: Almacena al mejor individuo encontrado a lo largo de todas las generaciones.\n",
        "\n",
        "<!-- end list -->"
      ],
      "metadata": {
        "id": "LZufXcLDSExr"
      }
    },
    {
      "cell_type": "code",
      "source": [
        "# --- 4. EJECUCIÓN DEL ALGORITMO GENÉTICO ---\n",
        "\n",
        "def run_genetic_algorithm():\n",
        "    # Establecer la semilla para reproducibilidad\n",
        "    random.seed(42)\n",
        "\n",
        "    # Crear la población inicial (15 individuos)\n",
        "    pop = toolbox.population(n=16)\n",
        "\n",
        "    # Crear un objeto HallOfFame para guardar al mejor individuo\n",
        "    hof = tools.HallOfFame(1)\n",
        "\n",
        "    # Configurar las estadísticas que se registrarán en cada generación\n",
        "    stats = tools.Statistics(lambda ind: ind.fitness.values)\n",
        "    stats.register(\"avg\", np.mean)\n",
        "    stats.register(\"max\", np.max)\n",
        "\n",
        "    # Ejecutar el algoritmo evolutivo\n",
        "    # CXPB: Probabilidad de cruce (70%)\n",
        "    # MUTPB: Probabilidad de mutación (20%)\n",
        "    # NGEN: Número de generaciones (25)\n",
        "    start_time_ga = time.time()\n",
        "    pop, logbook = algorithms.eaSimple(pop, toolbox, cxpb=0.7, mutpb=0.2, ngen=25,\n",
        "                                       stats=stats, halloffame=hof, verbose=True)\n",
        "    ga_time = time.time() - start_time_ga\n",
        "\n",
        "    # Extraer los mejores hiperparámetros del salón de la fama\n",
        "    best_hyperparams = {\n",
        "        'n_estimators': hof[0][0],\n",
        "        'max_depth': hof[0][1],\n",
        "        'min_samples_split': hof[0][2]\n",
        "    }\n",
        "\n",
        "    return best_hyperparams, logbook, ga_time\n",
        "\n",
        "best_params_ga, log, training_time_ga = run_genetic_algorithm()\n",
        "print(f\"\\nMejores Hiperparámetros encontrados: {best_params_ga}\")\n",
        "print(f\"Tiempo de búsqueda genética: {training_time_ga:.4f} segundos\")"
      ],
      "outputs": [
        {
          "output_type": "stream",
          "name": "stdout",
          "text": [
            "gen\tnevals\tavg     \tmax     \n",
            "0  \t16    \t0.971576\t0.974099\n",
            "1  \t11    \t0.973191\t0.976095\n",
            "2  \t11    \t0.973956\t0.976095\n",
            "3  \t14    \t0.974973\t0.976095\n",
            "4  \t14    \t0.976095\t0.976095\n",
            "5  \t14    \t0.976095\t0.976095\n",
            "6  \t12    \t0.976095\t0.976095\n",
            "7  \t13    \t0.975845\t0.976095\n",
            "8  \t13    \t0.976095\t0.976095\n",
            "9  \t6     \t0.976095\t0.976095\n",
            "10 \t12    \t0.97583 \t0.976095\n",
            "11 \t11    \t0.975466\t0.976095\n",
            "12 \t16    \t0.97597 \t0.976095\n",
            "13 \t13    \t0.97534 \t0.976095\n",
            "14 \t12    \t0.976095\t0.976095\n",
            "15 \t13    \t0.975094\t0.976095\n",
            "16 \t10    \t0.97597 \t0.976095\n",
            "17 \t16    \t0.975475\t0.976095\n",
            "18 \t13    \t0.975836\t0.976095\n",
            "19 \t7     \t0.975966\t0.976095\n",
            "20 \t15    \t0.976095\t0.976095\n",
            "21 \t10    \t0.975718\t0.976095\n",
            "22 \t9     \t0.975596\t0.976095\n",
            "23 \t12    \t0.975847\t0.976095\n",
            "24 \t15    \t0.975841\t0.976095\n",
            "25 \t12    \t0.975593\t0.976095\n",
            "\n",
            "Mejores Hiperparámetros encontrados: {'n_estimators': 234, 'max_depth': 27, 'min_samples_split': 5}\n",
            "Tiempo de búsqueda genética: 122.3346 segundos\n"
          ]
        }
      ],
      "execution_count": 44,
      "metadata": {
        "colab": {
          "base_uri": "https://localhost:8080/"
        },
        "id": "BaJkmU8VSExr",
        "outputId": "3c7b63c7-eb52-4090-de28-a327cf07d84d"
      }
    },
    {
      "cell_type": "markdown",
      "source": [
        "-----\n",
        "\n",
        "### Visualización del Desempeño por Generación 📈"
      ],
      "metadata": {
        "id": "Du2aVgYTSExr"
      }
    },
    {
      "cell_type": "code",
      "source": [
        "# --- VISUALIZACIÓN DEL PROGRESO ---\n",
        "\n",
        "def plot_logbook(logbook):\n",
        "    gen = logbook.select(\"gen\")\n",
        "    max_fitness = logbook.select(\"max\")\n",
        "    avg_fitness = logbook.select(\"avg\")\n",
        "\n",
        "    plt.figure(figsize=(12, 6))\n",
        "    plt.plot(gen, max_fitness, \"b-\", label=\"Máximo Fitness (F1-score)\")\n",
        "    plt.plot(gen, avg_fitness, \"r--\", label=\"Fitness Promedio\")\n",
        "    plt.xlabel(\"Generación\")\n",
        "    plt.ylabel(\"Fitness (F1-score)\")\n",
        "    plt.title(\"Evolución del Fitness por Generación\")\n",
        "    plt.legend(loc=\"lower right\")\n",
        "    plt.grid(True)\n",
        "    plt.ylim(0.965, 0.98) # Ajustar el eje Y para ver mejor la convergencia\n",
        "    plt.show()\n",
        "\n",
        "plot_logbook(log)"
      ],
      "outputs": [
        {
          "output_type": "display_data",
          "data": {
            "text/plain": [
              "<Figure size 1200x600 with 1 Axes>"
            ],
            "image/png": "[encoded data removed]"
          },
          "metadata": {}
        }
      ],
      "execution_count": 45,
      "metadata": {
        "colab": {
          "base_uri": "https://localhost:8080/",
          "height": 565
        },
        "id": "69RuAZLkSExr",
        "outputId": "8e08e908-4569-46b3-c9d2-8465eec2d21c"
      }
    },
    {
      "cell_type": "markdown",
      "source": [
        "El gráfico indica que el algoritmo fue muy exitoso y eficiente\n",
        "\n",
        "* **Convergencia Rápida**: El algoritmo fue muy eficiente, ya que no necesitó muchas generaciones para encontrar una solución de alto rendimiento.\n",
        "\n",
        "* **Población Exitosa**: La población entera mejoró, lo que indica que los operadores genéticos (selección, cruce y mutación) estaban bien configurados para guiar la búsqueda.\n",
        "\n",
        "\n",
        "-----\n",
        "\n",
        "### 5\\. Evaluación Final del Modelo Optimizado 🏆\n",
        "\n",
        "Finalmente, entrenamos un nuevo `RandomForestClassifier` usando los hiperparámetros óptimos encontrados por el algoritmo genético y lo evaluamos en el conjunto de prueba para ver su rendimiento final."
      ],
      "metadata": {
        "id": "vlr-i038SExr"
      }
    },
    {
      "cell_type": "code",
      "source": [
        "# --- 5. EVALUACIÓN FINAL ---\n",
        "\n",
        "# Crear el modelo final con los mejores hiperparámetros\n",
        "final_model = RandomForestClassifier(random_state=42, **best_params_ga)\n",
        "\n",
        "# Medir el tiempo de entrenamiento del modelo final (esto es lo nuevo)\n",
        "start_time_final_train = time.time()\n",
        "final_model.fit(X_train_scaled, y_train)\n",
        "training_time_final = time.time() - start_time_final_train\n",
        "\n",
        "# Evaluar en el conjunto de prueba\n",
        "y_pred_final = final_model.predict(X_test_scaled)\n",
        "accuracy_final = accuracy_score(y_test, y_pred_final)\n",
        "f1_final = f1_score(y_test, y_pred_final)\n",
        "\n",
        "print(\"\\n### 5. Resultados del Modelo Optimizado con Algoritmo Genético ###\")\n",
        "print(f\"Accuracy: {accuracy_final:.4f}\")\n",
        "print(f\"F1-Score: {f1_final:.4f}\")\n",
        "print(f\"Tiempo de entrenamiento del modelo final: {training_time_final:.4f} segundos\")\n",
        "print(\"\\nReporte de Clasificación del Modelo Optimizado:\")\n",
        "print(classification_report(y_test, y_pred_final))"
      ],
      "outputs": [
        {
          "output_type": "stream",
          "name": "stdout",
          "text": [
            "\n",
            "### 5. Resultados del Modelo Optimizado con Algoritmo Genético ###\n",
            "Accuracy: 0.9298\n",
            "F1-Score: 0.9439\n",
            "Tiempo de entrenamiento del modelo final: 0.5132 segundos\n",
            "\n",
            "Reporte de Clasificación del Modelo Optimizado:\n",
            "              precision    recall  f1-score   support\n",
            "\n",
            "           0       0.91      0.91      0.91        64\n",
            "           1       0.94      0.94      0.94       107\n",
            "\n",
            "    accuracy                           0.93       171\n",
            "   macro avg       0.93      0.93      0.93       171\n",
            "weighted avg       0.93      0.93      0.93       171\n",
            "\n"
          ]
        }
      ],
      "execution_count": 46,
      "metadata": {
        "colab": {
          "base_uri": "https://localhost:8080/"
        },
        "id": "kzUD5i4RSExr",
        "outputId": "f762417d-e570-4e53-96cd-c33550ebb35e"
      }
    },
    {
      "cell_type": "markdown",
      "source": [
        "### 6\\. Comparación y Conclusión Reflexiva 🧠\n",
        "\n",
        "Para terminar, comparamos el modelo base con el modelo optimizado."
      ],
      "metadata": {
        "id": "ZyVBquR7SExr"
      }
    },
    {
      "cell_type": "code",
      "source": [
        "# --- 6. COMPARACIÓN Y CONCLUSIÓN ---\n",
        "\n",
        "# training_time_base -> Tiempo de entrenamiento del modelo base\n",
        "# training_time_ga -> Tiempo de la búsqueda genética\n",
        "# training_time_final -> Tiempo de entrenamiento del modelo ya optimizado\n",
        "\n",
        "# Crear un DataFrame con una estructura más clara para la comparación\n",
        "comparison_data = {\n",
        "    'Métrica': ['Accuracy',\n",
        "                'F1-Score',\n",
        "                'Tiempo de Búsqueda (s)',\n",
        "                'Tiempo de Entrenamiento (s)'],\n",
        "    'Modelo Base': [accuracy_base,\n",
        "                    f1_base,\n",
        "                    0,  # El modelo base no tiene tiempo de búsqueda\n",
        "                    training_time_base],\n",
        "    'Modelo Optimizado (GA)': [accuracy_final,\n",
        "                               f1_final,\n",
        "                               training_time_ga, # El costo de la optimización\n",
        "                               training_time_final] # El tiempo de entrenamiento real\n",
        "}\n",
        "comparison_df = pd.DataFrame(comparison_data).set_index('Métrica')\n",
        "\n",
        "print(\"\\n### Tabla de Comparación de Modelos ###\")\n",
        "print(comparison_df.round(4))"
      ],
      "outputs": [
        {
          "output_type": "stream",
          "name": "stdout",
          "text": [
            "\n",
            "### Tabla de Comparación de Modelos ###\n",
            "                             Modelo Base  Modelo Optimizado (GA)\n",
            "Métrica                                                         \n",
            "Accuracy                          0.9357                  0.9298\n",
            "F1-Score                          0.9488                  0.9439\n",
            "Tiempo de Búsqueda (s)            0.0000                122.3346\n",
            "Tiempo de Entrenamiento (s)       0.2298                  0.5132\n"
          ]
        }
      ],
      "execution_count": 48,
      "metadata": {
        "colab": {
          "base_uri": "https://localhost:8080/"
        },
        "id": "09EQc_TASExr",
        "outputId": "fd823c08-8482-436c-c844-836e8d3f17ad"
      }
    },
    {
      "cell_type": "markdown",
      "source": [
        "### Comparación del Rendimiento del Modelo Base vs. el Optimizado\n",
        "\n",
        "Al analizar la tabla de resultados, la conclusión es sorprendentemente clara: **el modelo base fue superior al modelo optimizado en todos los aspectos importantes.**\n",
        "\n",
        "* **Rendimiento (Accuracy y F1-Score)**: El modelo base tuvo un `Accuracy` de **0.9357** y un `F1-Score` de **0.9488**. En contraste, el modelo optimizado con el algoritmo genético (GA) obtuvo peores resultados en ambas métricas (**0.9298** y **0.9439**, respectivamente). Esto significa que, a pesar del esfuerzo de optimización, el modelo resultante tiene una menor capacidad para predecir correctamente.\n",
        "\n",
        "* **Costo Computacional (Tiempos)**:\n",
        "    * El proceso de optimización tuvo un costo de **122.33 segundos**, un tiempo considerable invertido en la búsqueda de hiperparámetros.\n",
        "    * Además, el modelo final optimizado tarda más del doble en entrenarse (**0.51 segundos**) que el modelo base (**0.23 segundos**). Esto probablemente se debe a que el algoritmo genético eligió un valor más alto para `n_estimators` (más árboles en el bosque), haciendo el modelo más pesado.\n",
        "\n",
        "**Conclusión de la Comparación**: En este experimento, el proceso de optimización no solo no fue beneficioso, sino que fue **contraproducente**. Se invirtió un tiempo significativo para obtener un modelo que es tanto menos preciso como más lento.\n",
        "\n",
        "***\n",
        "\n",
        "### ¿Por Qué un Modelo \"Optimizado\" Puede Ser Peor?\n",
        "\n",
        "Este resultado, aunque inesperado, es una lección muy valiosa en machine learning. La razón más probable es el **sobreajuste (overfitting) al conjunto de entrenamiento**.\n",
        "\n",
        "El algoritmo genético trabajó para encontrar la combinación de hiperparámetros que maximizara el F1-score durante la validación cruzada (que se realiza sobre los datos de entrenamiento). Es posible que haya encontrado una combinación \"demasiado perfecta\" para esos datos específicos, aprendiendo sus patrones y ruido tan bien que perdió la capacidad de generalizar a datos nuevos (el conjunto de prueba).\n",
        "\n",
        "En cambio, los parámetros por defecto del modelo base resultaron ser más **robustos** y generalizaron mejor.\n",
        "\n",
        "***\n",
        "\n",
        "### Argumento: ¿Fueron los Algoritmos Genéticos una Mejor Alternativa?\n",
        "\n",
        "Basado en tus resultados, la respuesta directa es **no**. Para este problema en particular, no fueron una mejor alternativa, ya que el modelo base sin optimizar funcionó mejor.\n",
        "\n",
        "Sin embargo, para argumentar sobre su valor frente a otras técnicas (aunque no las hayas visto), podemos compararlos conceptualmente:\n",
        "\n",
        "1.  **Frente a \"No Hacer Nada\" (Modelo Base)**: La optimización es una apuesta. Inviertes tiempo de cómputo con la esperanza de mejorar el rendimiento. Como viste en tu resultado, esta apuesta no siempre se gana. Un modelo base con parámetros por defecto suele ser un punto de partida sorprendentemente fuerte.\n",
        "\n",
        "2.  **Frente a Búsqueda Manual o en Rejilla (Grid Search)**: Imagina una técnica que prueba *todas* las combinaciones posibles de una lista que tú le das (ej. `n_estimators = [100, 200, 300]`, `max_depth = [10, 20, 30]`). Se llama Grid Search.\n",
        "    * **Ventaja del GA**: Un algoritmo genético es mucho más eficiente. No necesita probar todo, sino que explora el espacio de búsqueda de forma inteligente, evolucionando hacia las mejores zonas. Para problemas complejos con muchos hiperparámetros, Grid Search es inviable, mientras que un GA sigue siendo una opción.\n",
        "\n",
        "3.  **Frente a Búsqueda Aleatoria (Random Search)**: Esta técnica simplemente prueba un número fijo de combinaciones al azar. Es rápida y funciona muy bien.\n",
        "    * **Ventaja del GA**: La búsqueda aleatoria depende de la suerte. Un algoritmo genético, en cambio, es un proceso dirigido: aprende de las generaciones anteriores para mejorar. Aunque es más complejo, tiene el potencial de refinar una solución y encontrar un rendimiento pico que la búsqueda aleatoria podría pasar por alto.\n",
        "\n",
        "**Argumento Final**:\n",
        "\n",
        "Aunque en tu experimento el resultado fue negativo, **los algoritmos genéticos son una alternativa poderosa y sofisticada en el mundo de la optimización**.\n",
        "\n",
        "No fueron la mejor opción *para este problema específico*, donde los parámetros por defecto ya eran excelentes. Sin embargo, su verdadera fortaleza reside en problemas con **espacios de búsqueda enormes y complejos**, donde métodos exhaustivos como Grid Search fallarían por su costo computacional y donde su enfoque \"inteligente\" puede superar la aleatoriedad de Random Search.\n",
        "\n",
        "Tu resultado subraya una verdad fundamental: **ninguna técnica de optimización es universalmente la mejor**. La elección siempre depende del problema, el dataset y los recursos disponibles."
      ],
      "metadata": {
        "id": "FoAm59humVxW"
      }
    },
    {
      "cell_type": "code",
      "source": [],
      "metadata": {
        "id": "ZjumfpMAhDmw"
      },
      "execution_count": null,
      "outputs": []
    }
  ],
  "metadata": {
    "colab": {
      "provenance": []
    },
    "kernelspec": {
      "display_name": "Python 3",
      "name": "python3"
    }
  },
  "nbformat": 4,
  "nbformat_minor": 0
}