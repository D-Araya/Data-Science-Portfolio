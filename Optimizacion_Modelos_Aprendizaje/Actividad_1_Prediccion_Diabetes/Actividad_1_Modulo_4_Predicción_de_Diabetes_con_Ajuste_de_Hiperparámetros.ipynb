{
  "cells": [
    {
      "cell_type": "markdown",
      "source": [
        "\n",
        "### **Predicción de Diabetes con Ajuste de Hiperparámetros**\n",
        "\n",
        "Este proyecto se enfoca en construir un modelo de machine learning para predecir la diabetes tipo II, utilizando diversas técnicas de optimización para mejorar su rendimiento.\n",
        "\n",
        "-----\n",
        "\n",
        "### 1\\. Carga y Exploración del Dataset\n",
        "\n",
        "Primero, cargaremos el dataset y realizaremos un análisis exploratorio básico para entender su estructura y contenido."
      ],
      "metadata": {
        "id": "Q1NbTLSAGCzZ"
      }
    },
    {
      "cell_type": "code",
      "source": [
        "# --- BLOQUE 1: CARGA Y EXPLORACIÓN DE DATOS ---\n",
        "# El objetivo de este bloque es importar las librerías necesarias, cargar el dataset\n",
        "# desde una URL, asignarle nombres a las columnas y realizar un análisis exploratorio\n",
        "# inicial para entender sus características principales.\n",
        "\n",
        "# Importar la librería pandas para la manipulación y análisis de datos.\n",
        "import pandas as pd\n",
        "# Importar la librería numpy para operaciones numéricas, especialmente útil aquí para el reemplazo de valores.\n",
        "import numpy as np\n",
        "\n",
        "# Definir la URL desde donde se descargará el dataset.\n",
        "url = \"https://raw.githubusercontent.com/jbrownlee/Datasets/master/pima-indians-diabetes.data.csv\"\n",
        "# Definir los nombres de las columnas, ya que el archivo CSV original no los incluye.\n",
        "column_names = ['preg', 'plas', 'pres', 'skin', 'test', 'mass', 'pedi', 'age', 'class']\n",
        "# Cargar los datos desde la URL usando pandas, asignando los nombres de columna definidos.\n",
        "data = pd.read_csv(url, header=None, names=column_names)\n",
        "\n",
        "# --- Exploración Inicial del Dataset ---\n",
        "\n",
        "# Imprimir las dimensiones del DataFrame (número de filas, número de columnas).\n",
        "print(\"Dimensiones del dataset:\", data.shape)\n",
        "# Imprimir un salto de línea para separar las salidas.\n",
        "print(\"\\nPrimeras 5 filas:\")\n",
        "# Mostrar las primeras 5 filas del dataset para una vista rápida de los datos.\n",
        "print(data.head())\n",
        "# Imprimir un salto de línea.\n",
        "print(\"\\nInformación general del dataset:\")\n",
        "# Mostrar un resumen conciso del DataFrame, incluyendo el tipo de dato de cada columna y si hay valores nulos.\n",
        "data.info()\n",
        "# Imprimir un salto de línea.\n",
        "print(\"\\nEstadísticas descriptivas:\")\n",
        "# Calcular y mostrar estadísticas descriptivas (media, desviación estándar, etc.) para cada columna numérica.\n",
        "print(data.describe())\n",
        "\n",
        "# --- Verificación de Valores Anómalos ---\n",
        "# En este dataset, los valores faltantes se representan como ceros en columnas donde\n",
        "# fisiológicamente no es posible (ej. glucosa, presión arterial).\n",
        "\n",
        "# Imprimir un encabezado para la siguiente salida.\n",
        "print(\"\\nValores cero en columnas específicas:\")\n",
        "# Seleccionar las columnas de interés y contar cuántas veces aparece el valor 0 en cada una.\n",
        "print((data[['plas', 'pres', 'skin', 'test', 'mass']] == 0).sum())"
      ],
      "outputs": [
        {
          "output_type": "stream",
          "name": "stdout",
          "text": [
            "Dimensiones del dataset: (768, 9)\n",
            "\n",
            "Primeras 5 filas:\n",
            "   preg  plas  pres  skin  test  mass   pedi  age  class\n",
            "0     6   148    72    35     0  33.6  0.627   50      1\n",
            "1     1    85    66    29     0  26.6  0.351   31      0\n",
            "2     8   183    64     0     0  23.3  0.672   32      1\n",
            "3     1    89    66    23    94  28.1  0.167   21      0\n",
            "4     0   137    40    35   168  43.1  2.288   33      1\n",
            "\n",
            "Información general del dataset:\n",
            "<class 'pandas.core.frame.DataFrame'>\n",
            "RangeIndex: 768 entries, 0 to 767\n",
            "Data columns (total 9 columns):\n",
            " #   Column  Non-Null Count  Dtype  \n",
            "---  ------  --------------  -----  \n",
            " 0   preg    768 non-null    int64  \n",
            " 1   plas    768 non-null    int64  \n",
            " 2   pres    768 non-null    int64  \n",
            " 3   skin    768 non-null    int64  \n",
            " 4   test    768 non-null    int64  \n",
            " 5   mass    768 non-null    float64\n",
            " 6   pedi    768 non-null    float64\n",
            " 7   age     768 non-null    int64  \n",
            " 8   class   768 non-null    int64  \n",
            "dtypes: float64(2), int64(7)\n",
            "memory usage: 54.1 KB\n",
            "\n",
            "Estadísticas descriptivas:\n",
            "             preg        plas        pres        skin        test        mass  \\\n",
            "count  768.000000  768.000000  768.000000  768.000000  768.000000  768.000000   \n",
            "mean     3.845052  120.894531   69.105469   20.536458   79.799479   31.992578   \n",
            "std      3.369578   31.972618   19.355807   15.952218  115.244002    7.884160   \n",
            "min      0.000000    0.000000    0.000000    0.000000    0.000000    0.000000   \n",
            "25%      1.000000   99.000000   62.000000    0.000000    0.000000   27.300000   \n",
            "50%      3.000000  117.000000   72.000000   23.000000   30.500000   32.000000   \n",
            "75%      6.000000  140.250000   80.000000   32.000000  127.250000   36.600000   \n",
            "max     17.000000  199.000000  122.000000   99.000000  846.000000   67.100000   \n",
            "\n",
            "             pedi         age       class  \n",
            "count  768.000000  768.000000  768.000000  \n",
            "mean     0.471876   33.240885    0.348958  \n",
            "std      0.331329   11.760232    0.476951  \n",
            "min      0.078000   21.000000    0.000000  \n",
            "25%      0.243750   24.000000    0.000000  \n",
            "50%      0.372500   29.000000    0.000000  \n",
            "75%      0.626250   41.000000    1.000000  \n",
            "max      2.420000   81.000000    1.000000  \n",
            "\n",
            "Valores cero en columnas específicas:\n",
            "plas      5\n",
            "pres     35\n",
            "skin    227\n",
            "test    374\n",
            "mass     11\n",
            "dtype: int64\n"
          ]
        }
      ],
      "execution_count": 1,
      "metadata": {
        "colab": {
          "base_uri": "https://localhost:8080/"
        },
        "id": "btLDzl4gGCza",
        "outputId": "b0fbeffe-b18a-4279-bb2f-2786fe095756"
      }
    },
    {
      "cell_type": "markdown",
      "source": [
        "**Análisis de la Exploración:**\n",
        "\n",
        "  * **Dimensiones:** El dataset tiene 768 filas y 9 columnas.\n",
        "  * **Variables:** Todas las columnas son numéricas (`int64` o `float64`). La variable objetivo es `class` (0: no diabético, 1: diabético).\n",
        "  * **Valores Faltantes:** No hay valores `NaN`. Sin embargo, se observan ceros en columnas como `plas` (glucosa), `pres` (presión arterial), y `mass` (índice de masa corporal), lo cual es fisiológicamente imposible. Estos ceros representan datos faltantes y deben ser tratados.\n",
        "\n",
        "-----\n",
        "\n",
        "### 2\\. Preprocesamiento de Datos\n",
        "\n",
        "Reemplazaremos los ceros anómalos con la mediana de cada columna para no afectar la distribución. Luego, escalaremos las características y dividiremos los datos para el entrenamiento y la prueba del modelo."
      ],
      "metadata": {
        "id": "WZeNHKxzGCzb"
      }
    },
    {
      "cell_type": "code",
      "source": [
        "# --- BLOQUE 2: PREPROCESAMIENTO DE DATOS ---\n",
        "# El objetivo de este bloque es limpiar y preparar los datos para el entrenamiento.\n",
        "# Esto incluye:\n",
        "# 1. Imputar los valores cero anómalos con la mediana de su respectiva columna.\n",
        "# 2. Separar los datos en características (X) y variable objetivo (y).\n",
        "# 3. Dividir el dataset en conjuntos de entrenamiento y prueba.\n",
        "# 4. Escalar las características para que tengan media 0 y desviación estándar 1.\n",
        "\n",
        "# Importar las funciones y clases necesarias de scikit-learn.\n",
        "from sklearn.model_selection import train_test_split  # Para dividir el dataset.\n",
        "from sklearn.preprocessing import StandardScaler      # Para escalar los datos.\n",
        "\n",
        "# Lista de columnas que contienen ceros anómalos que deben ser reemplazados.\n",
        "cols_to_replace = ['plas', 'pres', 'skin', 'test', 'mass']\n",
        "# Iterar sobre cada columna en la lista para reemplazar los ceros.\n",
        "for col in cols_to_replace:\n",
        "    # Calcular la mediana de la columna actual, ignorando los ceros en el cálculo si fuera necesario.\n",
        "    median = data[col].median()\n",
        "    # Reemplazar todos los valores 0 en la columna con la mediana calculada.\n",
        "    data[col] = data[col].replace(0, median)\n",
        "\n",
        "# Separar las características (variables independientes, X) de la variable objetivo (y).\n",
        "# X contiene todas las columnas excepto 'class'.\n",
        "X = data.drop('class', axis=1)\n",
        "# y contiene únicamente la columna 'class'.\n",
        "y = data['class']\n",
        "\n",
        "# Dividir los datos en un conjunto de entrenamiento (80%) y un conjunto de prueba (20%).\n",
        "# test_size=0.2 especifica que el 20% de los datos será para prueba.\n",
        "# random_state=42 asegura que la división sea reproducible.\n",
        "# stratify=y asegura que la proporción de clases (0 y 1) sea la misma en los conjuntos de entrenamiento y prueba.\n",
        "X_train, X_test, y_train, y_test = train_test_split(X, y, test_size=0.2, random_state=42, stratify=y)\n",
        "\n",
        "# Crear una instancia del escalador estándar.\n",
        "scaler = StandardScaler()\n",
        "# Ajustar el escalador a los datos de entrenamiento y transformarlos.\n",
        "# 'fit' calcula la media y la desviación estándar, 'transform' aplica la estandarización.\n",
        "X_train = scaler.fit_transform(X_train)\n",
        "# Usar el mismo escalador (ya ajustado) para transformar los datos de prueba.\n",
        "# Esto evita la fuga de datos del conjunto de prueba al de entrenamiento.\n",
        "X_test = scaler.transform(X_test)"
      ],
      "outputs": [],
      "execution_count": 2,
      "metadata": {
        "id": "IMV_mcfEGCzb"
      }
    },
    {
      "cell_type": "markdown",
      "source": [
        "-----\n",
        "\n",
        "### 3\\. Entrenamiento del Modelo Base (Random Forest)\n",
        "\n",
        "Entrenaremos un `RandomForestClassifier` con sus hiperparámetros por defecto para establecer una línea base de rendimiento."
      ],
      "metadata": {
        "id": "U0GMhV-BGCzb"
      }
    },
    {
      "cell_type": "code",
      "source": [
        "# --- BLOQUE 3: ENTRENAMIENTO DEL MODELO BASE ---\n",
        "# El objetivo de este bloque es establecer una línea base de rendimiento.\n",
        "# Se entrena un modelo Random Forest sin ajuste de hiperparámetros y se evalúa\n",
        "# con métricas clave para tener un punto de comparación.\n",
        "\n",
        "# Importar el clasificador Random Forest.\n",
        "from sklearn.ensemble import RandomForestClassifier\n",
        "# Importar las métricas de evaluación.\n",
        "from sklearn.metrics import f1_score, precision_score, recall_score, roc_auc_score\n",
        "# Importar la librería 'time' para medir el tiempo de ejecución.\n",
        "import time\n",
        "\n",
        "# Crear una instancia del clasificador Random Forest.\n",
        "# random_state=42 asegura que los resultados del modelo sean reproducibles.\n",
        "base_model = RandomForestClassifier(random_state=42)\n",
        "\n",
        "# Registrar el tiempo de inicio antes de entrenar el modelo.\n",
        "start_time = time.time()\n",
        "# Entrenar el modelo con los datos de entrenamiento.\n",
        "base_model.fit(X_train, y_train)\n",
        "# Calcular el tiempo total de entrenamiento.\n",
        "base_time = time.time() - start_time\n",
        "\n",
        "# Realizar predicciones sobre el conjunto de prueba.\n",
        "y_pred_base = base_model.predict(X_test)\n",
        "# Calcular las probabilidades de predicción para la clase positiva, necesario para el AUC.\n",
        "y_proba_base = base_model.predict_proba(X_test)[:, 1]\n",
        "\n",
        "# Almacenar las métricas de evaluación en un diccionario para fácil acceso.\n",
        "base_metrics = {\n",
        "    \"F1-Score\": f1_score(y_test, y_pred_base),           # Calcula el F1-Score.\n",
        "    \"Precision\": precision_score(y_test, y_pred_base),  # Calcula la Precisión.\n",
        "    \"Recall\": recall_score(y_test, y_pred_base),        # Calcula el Recall (Sensibilidad).\n",
        "    \"AUC\": roc_auc_score(y_test, y_proba_base)          # Calcula el Área Bajo la Curva ROC.\n",
        "}\n",
        "\n",
        "# Imprimir los resultados del modelo base.\n",
        "print(\"Resultados del Modelo Base:\")\n",
        "# Imprimir el diccionario de métricas.\n",
        "print(base_metrics)\n",
        "# Imprimir el tiempo que tardó el entrenamiento, formateado a 4 decimales.\n",
        "print(f\"Tiempo de entrenamiento: {base_time:.4f} segundos\")"
      ],
      "outputs": [
        {
          "output_type": "stream",
          "name": "stdout",
          "text": [
            "Resultados del Modelo Base:\n",
            "{'F1-Score': 0.6336633663366337, 'Precision': 0.6808510638297872, 'Recall': 0.5925925925925926, 'AUC': np.float64(0.8200000000000001)}\n",
            "Tiempo de entrenamiento: 0.3637 segundos\n"
          ]
        }
      ],
      "execution_count": 3,
      "metadata": {
        "colab": {
          "base_uri": "https://localhost:8080/"
        },
        "id": "NY0EngruGCzb",
        "outputId": "149dfdf5-e7c6-4eb5-fafc-e8ba4aee189c"
      }
    },
    {
      "cell_type": "markdown",
      "source": [
        "-----\n",
        "\n",
        "### 4\\. Aplicación de Técnicas de Optimización\n",
        "\n",
        "Ahora, buscaremos los mejores hiperparámetros usando Grid Search, Random Search y Optimización Bayesiana.\n",
        "\n",
        "#### **Grid Search**\n",
        "\n",
        "Grid Search evalúa exhaustivamente todas las combinaciones de hiperparámetros que le proporcionemos."
      ],
      "metadata": {
        "id": "ClcccZ2IGCzb"
      }
    },
    {
      "cell_type": "code",
      "source": [
        "# --- BLOQUE 4.1: OPTIMIZACIÓN CON GRID SEARCH ---\n",
        "# Grid Search prueba exhaustivamente todas las combinaciones de hiperparámetros\n",
        "# especificadas en una grilla. Es completo pero computacionalmente costoso.\n",
        "\n",
        "# Importar la clase GridSearchCV de scikit-learn.\n",
        "from sklearn.model_selection import GridSearchCV\n",
        "\n",
        "# Definir el espacio de búsqueda (la \"grilla\") de hiperparámetros.\n",
        "# Es un diccionario donde las claves son los nombres de los hiperparámetros y los valores son listas de valores a probar.\n",
        "param_grid = {\n",
        "    'n_estimators': [100, 200, 300],          # Número de árboles en el bosque.\n",
        "    'max_depth': [10, 20, 30, None],          # Profundidad máxima de los árboles.\n",
        "    'min_samples_split': [2, 5, 10],      # Mínimo de muestras para dividir un nodo.\n",
        "    'min_samples_leaf': [1, 2, 4]         # Mínimo de muestras en un nodo hoja.\n",
        "}\n",
        "\n",
        "# Configurar la búsqueda en grilla.\n",
        "# estimator: el modelo a optimizar.\n",
        "# param_grid: la grilla de hiperparámetros.\n",
        "# cv=5: número de pliegues para la validación cruzada.\n",
        "# scoring='f1': la métrica a optimizar (en este caso, F1-Score).\n",
        "# n_jobs=-1: usar todos los núcleos de CPU disponibles para acelerar la búsqueda.\n",
        "# verbose=1: mostrar mensajes sobre el progreso.\n",
        "grid_search = GridSearchCV(estimator=RandomForestClassifier(random_state=42),\n",
        "                           param_grid=param_grid,\n",
        "                           cv=5,\n",
        "                           scoring='f1',\n",
        "                           n_jobs=-1,\n",
        "                           verbose=1)\n",
        "\n",
        "# Registrar el tiempo de inicio.\n",
        "start_time = time.time()\n",
        "# Ejecutar la búsqueda en grilla con los datos de entrenamiento.\n",
        "grid_search.fit(X_train, y_train)\n",
        "# Calcular el tiempo total de la búsqueda.\n",
        "grid_time = time.time() - start_time\n",
        "\n",
        "# Imprimir los mejores hiperparámetros encontrados por Grid Search.\n",
        "print(\"Mejores hiperparámetros (Grid Search):\", grid_search.best_params_)\n",
        "\n",
        "# Obtener el mejor modelo encontrado durante la búsqueda.\n",
        "best_grid_model = grid_search.best_estimator_\n",
        "# Realizar predicciones con el mejor modelo.\n",
        "y_pred_grid = best_grid_model.predict(X_test)\n",
        "# Calcular las probabilidades de predicción para el AUC.\n",
        "y_proba_grid = best_grid_model.predict_proba(X_test)[:, 1]\n",
        "\n",
        "# Evaluar el mejor modelo de Grid Search y almacenar las métricas.\n",
        "grid_metrics = {\n",
        "    \"F1-Score\": f1_score(y_test, y_pred_grid),\n",
        "    \"Precision\": precision_score(y_test, y_pred_grid),\n",
        "    \"Recall\": recall_score(y_test, y_pred_grid),\n",
        "    \"AUC\": roc_auc_score(y_test, y_proba_grid)\n",
        "}"
      ],
      "outputs": [
        {
          "output_type": "stream",
          "name": "stdout",
          "text": [
            "Fitting 5 folds for each of 108 candidates, totalling 540 fits\n",
            "Mejores hiperparámetros (Grid Search): {'max_depth': 20, 'min_samples_leaf': 1, 'min_samples_split': 5, 'n_estimators': 100}\n"
          ]
        }
      ],
      "execution_count": 4,
      "metadata": {
        "colab": {
          "base_uri": "https://localhost:8080/"
        },
        "id": "4wI3z3dnGCzc",
        "outputId": "fa7fe336-9c50-47ba-d510-f42c2e6d20e7"
      }
    },
    {
      "cell_type": "markdown",
      "source": [
        "#### **Random Search**\n",
        "\n",
        "Random Search prueba un número fijo de combinaciones aleatorias del espacio de hiperparámetros. Suele ser más rápido que Grid Search."
      ],
      "metadata": {
        "id": "lJBWRJtIGCzc"
      }
    },
    {
      "cell_type": "code",
      "source": [
        "# --- BLOQUE 4.2: OPTIMIZACIÓN CON RANDOM SEARCH ---\n",
        "# Random Search prueba un número fijo de combinaciones aleatorias del espacio\n",
        "# de hiperparámetros. Es más rápido que Grid Search y a menudo encuentra\n",
        "# resultados muy buenos.\n",
        "\n",
        "# Importar la clase RandomizedSearchCV de scikit-learn.\n",
        "from sklearn.model_selection import RandomizedSearchCV\n",
        "\n",
        "# Configurar la búsqueda aleatoria.\n",
        "# param_distributions: el mismo espacio de búsqueda que Grid Search.\n",
        "# n_iter=50: el número de combinaciones de parámetros que se probarán.\n",
        "# Los otros parámetros son similares a GridSearchCV.\n",
        "random_search = RandomizedSearchCV(estimator=RandomForestClassifier(random_state=42),\n",
        "                                   param_distributions=param_grid,\n",
        "                                   n_iter=50,\n",
        "                                   cv=5,\n",
        "                                   scoring='f1',\n",
        "                                   n_jobs=-1,\n",
        "                                   random_state=42,\n",
        "                                   verbose=1)\n",
        "\n",
        "# Registrar el tiempo de inicio.\n",
        "start_time = time.time()\n",
        "# Ejecutar la búsqueda aleatoria con los datos de entrenamiento.\n",
        "random_search.fit(X_train, y_train)\n",
        "# Calcular el tiempo total de la búsqueda.\n",
        "random_time = time.time() - start_time\n",
        "\n",
        "# Imprimir los mejores hiperparámetros encontrados.\n",
        "print(\"Mejores hiperparámetros (Random Search):\", random_search.best_params_)\n",
        "\n",
        "# Obtener el mejor modelo de la búsqueda.\n",
        "best_random_model = random_search.best_estimator_\n",
        "# Realizar predicciones.\n",
        "y_pred_random = best_random_model.predict(X_test)\n",
        "# Calcular probabilidades para el AUC.\n",
        "y_proba_random = best_random_model.predict_proba(X_test)[:, 1]\n",
        "\n",
        "# Evaluar el mejor modelo de Random Search y almacenar las métricas.\n",
        "random_metrics = {\n",
        "    \"F1-Score\": f1_score(y_test, y_pred_random),\n",
        "    \"Precision\": precision_score(y_test, y_pred_random),\n",
        "    \"Recall\": recall_score(y_test, y_pred_random),\n",
        "    \"AUC\": roc_auc_score(y_test, y_proba_random)\n",
        "}"
      ],
      "outputs": [
        {
          "output_type": "stream",
          "name": "stdout",
          "text": [
            "Fitting 5 folds for each of 50 candidates, totalling 250 fits\n",
            "Mejores hiperparámetros (Random Search): {'n_estimators': 100, 'min_samples_split': 5, 'min_samples_leaf': 1, 'max_depth': 20}\n"
          ]
        }
      ],
      "execution_count": 5,
      "metadata": {
        "colab": {
          "base_uri": "https://localhost:8080/"
        },
        "id": "5BUm1rpFGCzc",
        "outputId": "2e5feaa3-b481-4c5f-fcf1-28e26079e08e"
      }
    },
    {
      "cell_type": "markdown",
      "source": [
        "#### **Optimización Bayesiana con Optuna**\n",
        "\n",
        "La optimización bayesiana utiliza los resultados de evaluaciones anteriores para elegir las siguientes combinaciones de hiperparámetros a probar, siendo más eficiente."
      ],
      "metadata": {
        "id": "wDIdC2hIGCzc"
      }
    },
    {
      "cell_type": "code",
      "source": [
        "!pip install optuna"
      ],
      "metadata": {
        "colab": {
          "base_uri": "https://localhost:8080/"
        },
        "id": "zzLmAVtZT7Be",
        "outputId": "c2ec1374-42af-4598-b975-715d5f637864"
      },
      "execution_count": 7,
      "outputs": [
        {
          "output_type": "stream",
          "name": "stdout",
          "text": [
            "Collecting optuna\n",
            "  Downloading optuna-4.4.0-py3-none-any.whl.metadata (17 kB)\n",
            "Collecting alembic>=1.5.0 (from optuna)\n",
            "  Downloading alembic-1.16.4-py3-none-any.whl.metadata (7.3 kB)\n",
            "Collecting colorlog (from optuna)\n",
            "  Downloading colorlog-6.9.0-py3-none-any.whl.metadata (10 kB)\n",
            "Requirement already satisfied: numpy in /usr/local/lib/python3.11/dist-packages (from optuna) (2.0.2)\n",
            "Requirement already satisfied: packaging>=20.0 in /usr/local/lib/python3.11/dist-packages (from optuna) (24.2)\n",
            "Requirement already satisfied: sqlalchemy>=1.4.2 in /usr/local/lib/python3.11/dist-packages (from optuna) (2.0.41)\n",
            "Requirement already satisfied: tqdm in /usr/local/lib/python3.11/dist-packages (from optuna) (4.67.1)\n",
            "Requirement already satisfied: PyYAML in /usr/local/lib/python3.11/dist-packages (from optuna) (6.0.2)\n",
            "Requirement already satisfied: Mako in /usr/lib/python3/dist-packages (from alembic>=1.5.0->optuna) (1.1.3)\n",
            "Requirement already satisfied: typing-extensions>=4.12 in /usr/local/lib/python3.11/dist-packages (from alembic>=1.5.0->optuna) (4.14.1)\n",
            "Requirement already satisfied: greenlet>=1 in /usr/local/lib/python3.11/dist-packages (from sqlalchemy>=1.4.2->optuna) (3.2.3)\n",
            "Downloading optuna-4.4.0-py3-none-any.whl (395 kB)\n",
            "\u001b[2K   \u001b[90m━━━━━━━━━━━━━━━━━━━━━━━━━━━━━━━━━━━━━━━━\u001b[0m \u001b[32m395.9/395.9 kB\u001b[0m \u001b[31m8.4 MB/s\u001b[0m eta \u001b[36m0:00:00\u001b[0m\n",
            "\u001b[?25hDownloading alembic-1.16.4-py3-none-any.whl (247 kB)\n",
            "\u001b[2K   \u001b[90m━━━━━━━━━━━━━━━━━━━━━━━━━━━━━━━━━━━━━━━━\u001b[0m \u001b[32m247.0/247.0 kB\u001b[0m \u001b[31m16.0 MB/s\u001b[0m eta \u001b[36m0:00:00\u001b[0m\n",
            "\u001b[?25hDownloading colorlog-6.9.0-py3-none-any.whl (11 kB)\n",
            "Installing collected packages: colorlog, alembic, optuna\n",
            "Successfully installed alembic-1.16.4 colorlog-6.9.0 optuna-4.4.0\n"
          ]
        }
      ]
    },
    {
      "cell_type": "code",
      "source": [
        "# --- BLOQUE 4.3: OPTIMIZACIÓN BAYESIANA CON OPTUNA ---\n",
        "# Optuna utiliza un enfoque bayesiano para explorar el espacio de hiperparámetros\n",
        "# de forma más inteligente, usando los resultados de pruebas anteriores para\n",
        "# decidir qué combinaciones probar a continuación.\n",
        "\n",
        "# Importar la librería Optuna.\n",
        "import optuna\n",
        "# Importar cross_val_score para evaluar el modelo dentro de la función objetivo.\n",
        "from sklearn.model_selection import cross_val_score\n",
        "\n",
        "# Definir la función \"objetivo\" que Optuna intentará maximizar.\n",
        "# El parámetro 'trial' es un objeto que Optuna usa para sugerir hiperparámetros.\n",
        "def objective(trial):\n",
        "    # Definir el espacio de búsqueda para cada hiperparámetro.\n",
        "    # Optuna permite especificar rangos (enteros, flotantes, categóricos).\n",
        "    n_estimators = trial.suggest_int('n_estimators', 100, 1000)      # Sugiere un entero entre 100 y 1000.\n",
        "    max_depth = trial.suggest_int('max_depth', 10, 50)               # Sugiere un entero entre 10 y 50.\n",
        "    min_samples_split = trial.suggest_int('min_samples_split', 2, 16)# Sugiere un entero entre 2 y 16.\n",
        "    min_samples_leaf = trial.suggest_int('min_samples_leaf', 1, 10)  # Sugiere un entero entre 1 y 10.\n",
        "\n",
        "    # Crear el modelo con los hiperparámetros sugeridos por el 'trial'.\n",
        "    model = RandomForestClassifier(n_estimators=n_estimators,\n",
        "                                   max_depth=max_depth,\n",
        "                                   min_samples_split=min_samples_split,\n",
        "                                   min_samples_leaf=min_samples_leaf,\n",
        "                                   random_state=42,\n",
        "                                   n_jobs=-1)\n",
        "\n",
        "    # Evaluar el modelo usando validación cruzada para obtener una estimación robusta del rendimiento.\n",
        "    # Se calcula la media del F1-score a través de 5 pliegues (cv=5).\n",
        "    score = cross_val_score(model, X_train, y_train, cv=5, scoring='f1').mean()\n",
        "\n",
        "    # Retornar la puntuación. Optuna intentará maximizar este valor.\n",
        "    return score\n",
        "\n",
        "# Crear un \"estudio\" de Optuna. La dirección 'maximize' indica que queremos maximizar la función objetivo.\n",
        "study = optuna.create_study(direction='maximize')\n",
        "# Registrar el tiempo de inicio.\n",
        "start_time = time.time()\n",
        "# Iniciar el proceso de optimización, ejecutando la función objetivo 50 veces (n_trials=50).\n",
        "study.optimize(objective, n_trials=50)\n",
        "# Calcular el tiempo total de la optimización.\n",
        "optuna_time = time.time() - start_time\n",
        "\n",
        "# Imprimir los mejores hiperparámetros encontrados por Optuna.\n",
        "print(\"Mejores hiperparámetros (Optuna):\", study.best_params)\n",
        "\n",
        "# Obtener los mejores hiperparámetros del estudio.\n",
        "best_optuna_params = study.best_params\n",
        "# Crear una nueva instancia del modelo con estos hiperparámetros.\n",
        "best_optuna_model = RandomForestClassifier(**best_optuna_params, random_state=42)\n",
        "# Entrenar el modelo final con todos los datos de entrenamiento.\n",
        "best_optuna_model.fit(X_train, y_train)\n",
        "\n",
        "# Realizar predicciones con el modelo optimizado.\n",
        "y_pred_optuna = best_optuna_model.predict(X_test)\n",
        "# Calcular las probabilidades para el AUC.\n",
        "y_proba_optuna = best_optuna_model.predict_proba(X_test)[:, 1]\n",
        "\n",
        "# Evaluar el modelo final de Optuna y almacenar las métricas.\n",
        "optuna_metrics = {\n",
        "    \"F1-Score\": f1_score(y_test, y_pred_optuna),\n",
        "    \"Precision\": precision_score(y_test, y_pred_optuna),\n",
        "    \"Recall\": recall_score(y_test, y_pred_optuna),\n",
        "    \"AUC\": roc_auc_score(y_test, y_proba_optuna)\n",
        "}"
      ],
      "outputs": [
        {
          "output_type": "stream",
          "name": "stderr",
          "text": [
            "[I 2025-07-12 02:26:07,227] A new study created in memory with name: no-name-acf90548-fac6-4155-b708-aa569d0f1ff8\n",
            "[I 2025-07-12 02:26:30,057] Trial 0 finished with value: 0.6279966590499294 and parameters: {'n_estimators': 888, 'max_depth': 34, 'min_samples_split': 15, 'min_samples_leaf': 9}. Best is trial 0 with value: 0.6279966590499294.\n",
            "[I 2025-07-12 02:26:31,884] Trial 1 finished with value: 0.6368746489669797 and parameters: {'n_estimators': 124, 'max_depth': 12, 'min_samples_split': 6, 'min_samples_leaf': 5}. Best is trial 1 with value: 0.6368746489669797.\n",
            "[I 2025-07-12 02:26:41,794] Trial 2 finished with value: 0.6415128869910018 and parameters: {'n_estimators': 730, 'max_depth': 20, 'min_samples_split': 3, 'min_samples_leaf': 2}. Best is trial 2 with value: 0.6415128869910018.\n",
            "[I 2025-07-12 02:26:53,023] Trial 3 finished with value: 0.630406346127739 and parameters: {'n_estimators': 879, 'max_depth': 39, 'min_samples_split': 5, 'min_samples_leaf': 7}. Best is trial 2 with value: 0.6415128869910018.\n",
            "[I 2025-07-12 02:27:05,155] Trial 4 finished with value: 0.6287834362980783 and parameters: {'n_estimators': 957, 'max_depth': 47, 'min_samples_split': 16, 'min_samples_leaf': 7}. Best is trial 2 with value: 0.6415128869910018.\n",
            "[I 2025-07-12 02:27:07,124] Trial 5 finished with value: 0.648671679197995 and parameters: {'n_estimators': 162, 'max_depth': 34, 'min_samples_split': 9, 'min_samples_leaf': 6}. Best is trial 5 with value: 0.648671679197995.\n",
            "[I 2025-07-12 02:27:18,297] Trial 6 finished with value: 0.6303384159352496 and parameters: {'n_estimators': 901, 'max_depth': 28, 'min_samples_split': 8, 'min_samples_leaf': 8}. Best is trial 5 with value: 0.648671679197995.\n",
            "[I 2025-07-12 02:27:19,937] Trial 7 finished with value: 0.6420433508098183 and parameters: {'n_estimators': 132, 'max_depth': 23, 'min_samples_split': 14, 'min_samples_leaf': 7}. Best is trial 5 with value: 0.648671679197995.\n",
            "[I 2025-07-12 02:27:29,856] Trial 8 finished with value: 0.630406346127739 and parameters: {'n_estimators': 737, 'max_depth': 31, 'min_samples_split': 7, 'min_samples_leaf': 7}. Best is trial 5 with value: 0.648671679197995.\n",
            "[I 2025-07-12 02:27:33,281] Trial 9 finished with value: 0.6310078530620123 and parameters: {'n_estimators': 273, 'max_depth': 12, 'min_samples_split': 7, 'min_samples_leaf': 3}. Best is trial 5 with value: 0.648671679197995.\n",
            "[I 2025-07-12 02:27:41,130] Trial 10 finished with value: 0.6328191896161076 and parameters: {'n_estimators': 422, 'max_depth': 48, 'min_samples_split': 10, 'min_samples_leaf': 4}. Best is trial 5 with value: 0.648671679197995.\n",
            "[I 2025-07-12 02:27:42,644] Trial 11 finished with value: 0.6203602887077426 and parameters: {'n_estimators': 121, 'max_depth': 24, 'min_samples_split': 12, 'min_samples_leaf': 10}. Best is trial 5 with value: 0.648671679197995.\n",
            "[I 2025-07-12 02:27:46,773] Trial 12 finished with value: 0.628775617627092 and parameters: {'n_estimators': 333, 'max_depth': 38, 'min_samples_split': 12, 'min_samples_leaf': 5}. Best is trial 5 with value: 0.648671679197995.\n",
            "[I 2025-07-12 02:27:49,740] Trial 13 finished with value: 0.6246790908555614 and parameters: {'n_estimators': 246, 'max_depth': 20, 'min_samples_split': 11, 'min_samples_leaf': 6}. Best is trial 5 with value: 0.648671679197995.\n",
            "[I 2025-07-12 02:27:57,129] Trial 14 finished with value: 0.6202480857621333 and parameters: {'n_estimators': 508, 'max_depth': 41, 'min_samples_split': 14, 'min_samples_leaf': 1}. Best is trial 5 with value: 0.648671679197995.\n",
            "[I 2025-07-12 02:27:59,613] Trial 15 finished with value: 0.6200789627111805 and parameters: {'n_estimators': 202, 'max_depth': 25, 'min_samples_split': 13, 'min_samples_leaf': 9}. Best is trial 5 with value: 0.648671679197995.\n",
            "[I 2025-07-12 02:28:04,798] Trial 16 finished with value: 0.6368987207418579 and parameters: {'n_estimators': 377, 'max_depth': 18, 'min_samples_split': 9, 'min_samples_leaf': 6}. Best is trial 5 with value: 0.648671679197995.\n",
            "[I 2025-07-12 02:28:13,488] Trial 17 finished with value: 0.6278257574979461 and parameters: {'n_estimators': 552, 'max_depth': 33, 'min_samples_split': 4, 'min_samples_leaf': 8}. Best is trial 5 with value: 0.648671679197995.\n",
            "[I 2025-07-12 02:28:26,976] Trial 18 finished with value: 0.632482444415938 and parameters: {'n_estimators': 513, 'max_depth': 27, 'min_samples_split': 10, 'min_samples_leaf': 4}. Best is trial 5 with value: 0.648671679197995.\n",
            "[I 2025-07-12 02:28:30,011] Trial 19 finished with value: 0.6290057006962189 and parameters: {'n_estimators': 183, 'max_depth': 17, 'min_samples_split': 14, 'min_samples_leaf': 4}. Best is trial 5 with value: 0.648671679197995.\n",
            "[I 2025-07-12 02:28:31,732] Trial 20 finished with value: 0.6271956273024429 and parameters: {'n_estimators': 100, 'max_depth': 35, 'min_samples_split': 2, 'min_samples_leaf': 8}. Best is trial 5 with value: 0.648671679197995.\n",
            "[I 2025-07-12 02:28:40,412] Trial 21 finished with value: 0.6260155015996456 and parameters: {'n_estimators': 670, 'max_depth': 22, 'min_samples_split': 2, 'min_samples_leaf': 1}. Best is trial 5 with value: 0.648671679197995.\n",
            "[I 2025-07-12 02:28:53,356] Trial 22 finished with value: 0.6341315404395573 and parameters: {'n_estimators': 745, 'max_depth': 16, 'min_samples_split': 4, 'min_samples_leaf': 3}. Best is trial 5 with value: 0.648671679197995.\n",
            "[I 2025-07-12 02:29:02,011] Trial 23 finished with value: 0.6350517669455371 and parameters: {'n_estimators': 637, 'max_depth': 30, 'min_samples_split': 16, 'min_samples_leaf': 2}. Best is trial 5 with value: 0.648671679197995.\n",
            "[I 2025-07-12 02:29:12,191] Trial 24 finished with value: 0.6294635194538891 and parameters: {'n_estimators': 789, 'max_depth': 22, 'min_samples_split': 3, 'min_samples_leaf': 6}. Best is trial 5 with value: 0.648671679197995.\n",
            "[I 2025-07-12 02:29:16,092] Trial 25 finished with value: 0.6297222448813116 and parameters: {'n_estimators': 314, 'max_depth': 15, 'min_samples_split': 9, 'min_samples_leaf': 2}. Best is trial 5 with value: 0.648671679197995.\n",
            "[I 2025-07-12 02:29:24,608] Trial 26 finished with value: 0.6378164451660097 and parameters: {'n_estimators': 629, 'max_depth': 44, 'min_samples_split': 5, 'min_samples_leaf': 5}. Best is trial 5 with value: 0.648671679197995.\n",
            "[I 2025-07-12 02:29:29,528] Trial 27 finished with value: 0.6406508809336774 and parameters: {'n_estimators': 393, 'max_depth': 25, 'min_samples_split': 11, 'min_samples_leaf': 7}. Best is trial 5 with value: 0.648671679197995.\n",
            "[I 2025-07-12 02:29:31,949] Trial 28 finished with value: 0.6262369337979093 and parameters: {'n_estimators': 187, 'max_depth': 10, 'min_samples_split': 7, 'min_samples_leaf': 3}. Best is trial 5 with value: 0.648671679197995.\n",
            "[I 2025-07-12 02:29:40,391] Trial 29 finished with value: 0.6297414297414298 and parameters: {'n_estimators': 580, 'max_depth': 36, 'min_samples_split': 15, 'min_samples_leaf': 9}. Best is trial 5 with value: 0.648671679197995.\n",
            "[I 2025-07-12 02:29:46,152] Trial 30 finished with value: 0.6164087590409768 and parameters: {'n_estimators': 460, 'max_depth': 20, 'min_samples_split': 14, 'min_samples_leaf': 10}. Best is trial 5 with value: 0.648671679197995.\n",
            "[I 2025-07-12 02:29:49,809] Trial 31 finished with value: 0.6358068195607329 and parameters: {'n_estimators': 251, 'max_depth': 27, 'min_samples_split': 12, 'min_samples_leaf': 7}. Best is trial 5 with value: 0.648671679197995.\n",
            "[I 2025-07-12 02:29:54,250] Trial 32 finished with value: 0.6368987207418579 and parameters: {'n_estimators': 373, 'max_depth': 31, 'min_samples_split': 11, 'min_samples_leaf': 6}. Best is trial 5 with value: 0.648671679197995.\n",
            "[I 2025-07-12 02:29:56,403] Trial 33 finished with value: 0.6254977708858306 and parameters: {'n_estimators': 166, 'max_depth': 24, 'min_samples_split': 13, 'min_samples_leaf': 7}. Best is trial 5 with value: 0.648671679197995.\n",
            "[I 2025-07-12 02:30:07,003] Trial 34 finished with value: 0.6303384159352496 and parameters: {'n_estimators': 811, 'max_depth': 33, 'min_samples_split': 9, 'min_samples_leaf': 8}. Best is trial 5 with value: 0.648671679197995.\n",
            "[I 2025-07-12 02:30:10,721] Trial 35 finished with value: 0.6271933391460792 and parameters: {'n_estimators': 302, 'max_depth': 28, 'min_samples_split': 15, 'min_samples_leaf': 5}. Best is trial 5 with value: 0.648671679197995.\n",
            "[I 2025-07-12 02:30:13,128] Trial 36 finished with value: 0.6411652664381225 and parameters: {'n_estimators': 152, 'max_depth': 20, 'min_samples_split': 8, 'min_samples_leaf': 7}. Best is trial 5 with value: 0.648671679197995.\n",
            "[I 2025-07-12 02:30:15,217] Trial 37 finished with value: 0.626852234695372 and parameters: {'n_estimators': 135, 'max_depth': 13, 'min_samples_split': 6, 'min_samples_leaf': 6}. Best is trial 5 with value: 0.648671679197995.\n",
            "[I 2025-07-12 02:30:26,978] Trial 38 finished with value: 0.623521134574405 and parameters: {'n_estimators': 938, 'max_depth': 19, 'min_samples_split': 8, 'min_samples_leaf': 9}. Best is trial 5 with value: 0.648671679197995.\n",
            "[I 2025-07-12 02:30:40,150] Trial 39 finished with value: 0.6259964892052633 and parameters: {'n_estimators': 995, 'max_depth': 22, 'min_samples_split': 8, 'min_samples_leaf': 8}. Best is trial 5 with value: 0.648671679197995.\n",
            "[I 2025-07-12 02:30:42,920] Trial 40 finished with value: 0.6376425614940358 and parameters: {'n_estimators': 220, 'max_depth': 14, 'min_samples_split': 6, 'min_samples_leaf': 7}. Best is trial 5 with value: 0.648671679197995.\n",
            "[I 2025-07-12 02:30:44,833] Trial 41 finished with value: 0.6244528954529915 and parameters: {'n_estimators': 144, 'max_depth': 24, 'min_samples_split': 11, 'min_samples_leaf': 7}. Best is trial 5 with value: 0.648671679197995.\n",
            "[I 2025-07-12 02:30:48,390] Trial 42 finished with value: 0.6363981136758501 and parameters: {'n_estimators': 285, 'max_depth': 29, 'min_samples_split': 10, 'min_samples_leaf': 5}. Best is trial 5 with value: 0.648671679197995.\n",
            "[I 2025-07-12 02:30:49,780] Trial 43 finished with value: 0.636908113702606 and parameters: {'n_estimators': 100, 'max_depth': 21, 'min_samples_split': 10, 'min_samples_leaf': 7}. Best is trial 5 with value: 0.648671679197995.\n",
            "[I 2025-07-12 02:30:53,397] Trial 44 finished with value: 0.6378659121527059 and parameters: {'n_estimators': 227, 'max_depth': 25, 'min_samples_split': 7, 'min_samples_leaf': 8}. Best is trial 5 with value: 0.648671679197995.\n",
            "[I 2025-07-12 02:30:58,685] Trial 45 finished with value: 0.6247783128846081 and parameters: {'n_estimators': 438, 'max_depth': 26, 'min_samples_split': 13, 'min_samples_leaf': 6}. Best is trial 5 with value: 0.648671679197995.\n",
            "[I 2025-07-12 02:31:03,911] Trial 46 finished with value: 0.6348993110757817 and parameters: {'n_estimators': 399, 'max_depth': 38, 'min_samples_split': 8, 'min_samples_leaf': 6}. Best is trial 5 with value: 0.648671679197995.\n",
            "[I 2025-07-12 02:31:14,943] Trial 47 finished with value: 0.630406346127739 and parameters: {'n_estimators': 871, 'max_depth': 17, 'min_samples_split': 5, 'min_samples_leaf': 7}. Best is trial 5 with value: 0.648671679197995.\n",
            "[I 2025-07-12 02:31:17,452] Trial 48 finished with value: 0.6339015486400872 and parameters: {'n_estimators': 148, 'max_depth': 50, 'min_samples_split': 11, 'min_samples_leaf': 5}. Best is trial 5 with value: 0.648671679197995.\n",
            "[I 2025-07-12 02:31:23,775] Trial 49 finished with value: 0.625827247776711 and parameters: {'n_estimators': 498, 'max_depth': 41, 'min_samples_split': 12, 'min_samples_leaf': 7}. Best is trial 5 with value: 0.648671679197995.\n"
          ]
        },
        {
          "output_type": "stream",
          "name": "stdout",
          "text": [
            "Mejores hiperparámetros (Optuna): {'n_estimators': 162, 'max_depth': 34, 'min_samples_split': 9, 'min_samples_leaf': 6}\n"
          ]
        }
      ],
      "execution_count": 8,
      "metadata": {
        "colab": {
          "base_uri": "https://localhost:8080/"
        },
        "id": "KMJ1qw09GCzc",
        "outputId": "a39c90cb-3919-423f-8649-44789b84887d"
      }
    },
    {
      "cell_type": "markdown",
      "source": [
        "-----\n",
        "\n",
        "### 5\\. Comparación de Resultados\n",
        "\n",
        "Ahora, consolidamos y comparamos el rendimiento y el tiempo de ejecución de todos los modelos."
      ],
      "metadata": {
        "id": "DJmALxjmGCzc"
      }
    },
    {
      "cell_type": "code",
      "source": [
        "# --- BLOQUE 5: COMPARACIÓN DE RESULTADOS ---\n",
        "# El objetivo es consolidar todas las métricas y tiempos de ejecución\n",
        "# en una sola tabla para facilitar la comparación entre el modelo base\n",
        "# y los modelos optimizados con las diferentes técnicas.\n",
        "\n",
        "# Crear un DataFrame de pandas para mostrar los resultados de forma ordenada.\n",
        "# Las claves del diccionario externo serán las columnas y las métricas las filas.\n",
        "results = pd.DataFrame({\n",
        "    'Modelo Base': base_metrics,\n",
        "    'Grid Search': grid_metrics,\n",
        "    'Random Search': random_metrics,\n",
        "    'Optuna': optuna_metrics\n",
        "})\n",
        "\n",
        "# Crear un diccionario con los tiempos de ejecución de cada método.\n",
        "times = {\n",
        "    'Modelo Base': base_time,\n",
        "    'Grid Search': grid_time,\n",
        "    'Random Search': random_time,\n",
        "    'Optuna': optuna_time\n",
        "}\n",
        "# Añadir los tiempos como una nueva fila en el DataFrame de resultados.\n",
        "results.loc['Tiempo (s)'] = times\n",
        "\n",
        "# Imprimir el DataFrame final con todos los resultados.\n",
        "print(\"Comparación de Resultados:\")\n",
        "# Usar .round(4) para redondear todos los valores a 4 decimales para una mejor legibilidad.\n",
        "print(results.round(4))"
      ],
      "outputs": [
        {
          "output_type": "stream",
          "name": "stdout",
          "text": [
            "Comparación de Resultados:\n",
            "            Modelo Base  Grid Search  Random Search    Optuna\n",
            "F1-Score         0.6337       0.6154         0.6154    0.5882\n",
            "Precision        0.6809       0.6400         0.6400    0.6250\n",
            "Recall           0.5926       0.5926         0.5926    0.5556\n",
            "AUC              0.8200       0.8122         0.8122    0.8109\n",
            "Tiempo (s)       0.3637     205.7599        93.1159  316.5366\n"
          ]
        }
      ],
      "execution_count": 9,
      "metadata": {
        "colab": {
          "base_uri": "https://localhost:8080/"
        },
        "id": "qEqWJCuRGCzc",
        "outputId": "8ac4687b-94cc-4711-f7d7-0975dcbfe75a"
      }
    },
    {
      "cell_type": "markdown",
      "source": [
        "### **Análisis Comparativo Detallado de Resultados**\n",
        "\n",
        "Al observar los resultados, la conclusión más importante y sorprendente es que el **`Modelo Base` (sin optimización) superó a todos los modelos optimizados** en prácticamente todas las métricas de rendimiento. Este es un hallazgo crucial y nos lleva a un análisis más profundo que el simple \"optimizar es siempre mejor\".\n",
        "\n",
        "#### 1. Rendimiento del Modelo: El Inesperado Triunfo de la Simplicidad\n",
        "\n",
        "* **El `Modelo Base` es el Ganador Indiscutible:** Con el **F1-Score más alto (0.6337)**, la **mejor Precisión (0.6809)** y el **AUC más elevado (0.8200)**, el modelo con los hiperparámetros por defecto de Scikit-learn demostró ser la solución más efectiva para este problema y este conjunto de datos de prueba. Esto sugiere que los parámetros predeterminados del `RandomForestClassifier` ya son bastante robustos y estaban bien adaptados para este dataset.\n",
        "\n",
        "* **La Optimización no Logró Mejorar (e Incluso Perjudicó):**\n",
        "    * Tanto `Grid Search` como `Random Search` convergieron exactamente a la misma solución, que fue inferior a la línea base (F1-Score de 0.6154). Esto indica que, dentro del espacio de búsqueda que definiste, el \"mejor\" resultado encontrado no fue lo suficientemente bueno.\n",
        "    * `Optuna`, la técnica teóricamente más avanzada, arrojó el peor rendimiento de todos (F1-Score de 0.5882). Este es el resultado más anómalo y preocupante.\n",
        "\n",
        "#### 2. El Paradigma del Tiempo de Ejecución: Costo vs. Beneficio\n",
        "\n",
        "Aquí tus resultados desafían las expectativas teóricas, lo cual es muy instructivo.\n",
        "\n",
        "* **El Costo de la Búsqueda no se Tradujo en Beneficio:** Invertiste un tiempo de cómputo significativo (desde 93 hasta 316 segundos) para obtener modelos que, al final, fueron peores que el modelo base que solo tardó 0.36 segundos en entrenar. Esto subraya una lección clave en Machine Learning: **la optimización es una inversión, y como toda inversión, no siempre garantiza un retorno positivo.**\n",
        "\n",
        "* **La Ineficiencia Anómala de Optuna:** El hallazgo más extraño es que `Optuna` fue el método más lento (316s), incluso más que el exhaustivo `Grid Search` (206s). Teóricamente, Optuna debería ser más rápido. ¿Por qué pudo ocurrir esto?\n",
        "    * **Costo por Iteración:** La función `objective` de Optuna realiza una validación cruzada completa en cada iteración. Si el espacio de búsqueda que definiste para Optuna era muy amplio, cada \"prueba\" o `trial` pudo ser computacionalmente cara, y las 50 iteraciones sumaron un tiempo considerable.\n",
        "    * **Sobrehead del Modelo Bayesiano:** Optuna invierte tiempo en actualizar su modelo probabilístico interno. Para problemas más simples o con pocas iteraciones, este \"overhead\" puede hacer que sea más lento que métodos más directos.\n",
        "\n",
        "#### 3. ¿Por Qué Falló la Optimización? (Hipótesis)\n",
        "\n",
        "Este es el punto más importante. El \"fracaso\" de la optimización es una oportunidad de aprendizaje.\n",
        "\n",
        "1.  **Espacio de Búsqueda Mal Definido:** La hipótesis más probable es que **la combinación de hiperparámetros óptima no estaba dentro del `param_grid` que definiste**. Los parámetros por defecto del `RandomForestClassifier` que funcionaron tan bien en el modelo base podrían estar fuera de los rangos que exploraste.\n",
        "\n",
        "2.  **Sobreajuste a los Datos de Validación (Overfitting):** El proceso de optimización busca los hiperparámetros que maximizan el rendimiento *en los pliegues de validación cruzada*. Es posible que los parámetros encontrados estuvieran ligeramente sobreajustados a esos datos de entrenamiento/validación específicos y, por lo tanto, no generalizaron tan bien al conjunto de prueba final como lo hizo el modelo base, que era más \"genérico\".\n",
        "\n",
        "3.  **El \"Valle\" de Rendimiento:** Es posible que el rendimiento del modelo en este dataset sea muy sensible. Los parámetros por defecto cayeron en un \"pico\" de rendimiento, y los parámetros explorados durante la optimización cayeron en un \"valle\" cercano, sin que los algoritmos pudieran encontrar una salida hacia un pico más alto dentro de las iteraciones dadas.\n",
        "\n",
        "#### **Recomendación**\n",
        "\n",
        "Basado en tus resultados, la conclusión profesional no es que \"la optimización no sirve\", sino que **\"para este dataset y con la configuración de búsqueda utilizada, el modelo base es la mejor solución\"**. Esto es un resultado perfectamente válido. Demuestra la importancia de mantener siempre un modelo simple como punto de referencia.\n",
        "\n",
        "Si quisieramos seguir investigando, los siguientes pasos serían:\n",
        "* **Analizar los parámetros del `base_model`** e incluirlos o centrar el `param_grid` alrededor de ellos.\n",
        "* **Ampliar el espacio de búsqueda** para `Grid/Random Search`.\n",
        "* **Aumentar el número de `n_trials` en Optuna** para darle más oportunidades de explorar y explotar el espacio de búsqueda.\n",
        "-----\n",
        "\n",
        "### 6\\. Visualización y Reflexión\n",
        "\n",
        "Visualizar los resultados ayuda a entender el impacto de la optimización."
      ],
      "metadata": {
        "id": "zEzEf-U8GCzd"
      }
    },
    {
      "cell_type": "code",
      "source": [
        "# --- BLOQUE 6: VISUALIZACIÓN DE RESULTADOS ---\n",
        "# El objetivo es crear gráficos que permitan comparar visualmente el rendimiento\n",
        "# y la eficiencia de las diferentes técnicas de optimización.\n",
        "\n",
        "# Importar las librerías de visualización.\n",
        "import matplotlib.pyplot as plt\n",
        "import seaborn as sns\n",
        "\n",
        "# --- Gráfico de comparación de métricas de rendimiento ---\n",
        "# Transponemos el DataFrame para que los modelos queden en el eje X\n",
        "results_transposed = results.T\n",
        "\n",
        "# Graficamos todas las columnas EXCEPTO 'Tiempo (s)'\n",
        "results_transposed.drop('Tiempo (s)', axis=1).plot(kind='bar', figsize=(12, 7))\n",
        "\n",
        "# Añadir un título al gráfico.\n",
        "plt.title('Comparación de Métricas de Evaluación por Técnica de Optimización')\n",
        "# Etiquetar el eje Y.\n",
        "plt.ylabel('Puntuación')\n",
        "# Girar las etiquetas del eje X para que no se superpongan.\n",
        "plt.xticks(rotation=0)\n",
        "# Añadir una leyenda para identificar cada métrica.\n",
        "plt.legend(title='Métrica')\n",
        "# Ajustar el diseño para evitar que los elementos se corten.\n",
        "plt.tight_layout()\n",
        "# Mostrar el gráfico.\n",
        "plt.show()\n",
        "\n",
        "# --- Gráfico de comparación de tiempos de ejecución ---\n",
        "# Seleccionar solo la fila 'Tiempo (s)' del DataFrame de resultados para graficarla.\n",
        "results.loc['Tiempo (s)'].plot(kind='bar', figsize=(10, 6), color='skyblue')\n",
        "# Añadir un título al gráfico.\n",
        "plt.title('Comparación de Tiempos de Ejecución')\n",
        "# Etiquetar el eje Y.\n",
        "plt.ylabel('Segundos')\n",
        "# Mantener las etiquetas del eje X horizontales.\n",
        "plt.xticks(rotation=0)\n",
        "# Ajustar el diseño.\n",
        "plt.tight_layout()\n",
        "# Mostrar el gráfico.\n",
        "plt.show()\n",
        "\n",
        "# --- Gráficos de Visualización de Optuna (Opcional pero recomendado) ---\n",
        "# Optuna ofrece herramientas de visualización muy útiles para entender el proceso de optimización.\n",
        "\n",
        "# Graficar el historial de optimización: muestra cómo mejora la puntuación en cada 'trial'.\n",
        "# import plotly\n",
        "# optuna.visualization.plot_optimization_history(study)\n",
        "# Graficar la importancia de los hiperparámetros: muestra qué hiperparámetros tuvieron mayor impacto en el resultado.\n",
        "# optuna.visualization.plot_param_importances(study)"
      ],
      "outputs": [
        {
          "output_type": "display_data",
          "data": {
            "text/plain": [
              "<Figure size 1200x700 with 1 Axes>"
            ],
            "image/png": "[encoded data removed]"
          },
          "metadata": {}
        },
        {
          "output_type": "display_data",
          "data": {
            "text/plain": [
              "<Figure size 1000x600 with 1 Axes>"
            ],
            "image/png": "[encoded data removed]"
          },
          "metadata": {}
        }
      ],
      "execution_count": 11,
      "metadata": {
        "colab": {
          "base_uri": "https://localhost:8080/",
          "height": 1000
        },
        "id": "qliKZm0wGCzd",
        "outputId": "43d19050-afd7-4a65-b428-7827b91ee435"
      }
    },
    {
      "cell_type": "markdown",
      "source": [
        "Basándonos en la reveladora experiencia del experimento, donde el modelo base superó a los optimizados, podemos profundizar en una reflexión mucho más matizada y realista sobre la importancia del ajuste de hiperparámetros.\n",
        "\n",
        "***\n",
        "\n",
        "### **Reflexión Detallada sobre la Importancia del Ajuste de Hiperparámetros**\n",
        "\n",
        "El resultado no demuestra que el ajuste sea inútil; al contrario, nos proporciona una lección fundamental y mucho más profunda. La importancia del ajuste no radica únicamente en la *mejora* del rendimiento, sino también en la **validación y el diagnóstico del modelo.**\n",
        "\n",
        "#### 1. El Ajuste como Herramienta de Diagnóstico y Validación 🕵️‍♀️\n",
        "\n",
        "En este caso, el proceso de ajuste funcionó como una poderosa herramienta de diagnóstico que nos dejó dos conclusiones clave:\n",
        "\n",
        "* **Validó la Fortaleza del Modelo Base:** El hallazgo más importante es que los parámetros por defecto de `RandomForestClassifier` eran una solución sorprendentemente buena para este dataset. Sin intentar optimizarlos, nunca habríamos tenido la confianza para afirmar esto. Ahora no solo tienes un buen modelo base, sino que tienes **evidencia empírica** de que otras configuraciones, dentro de tu búsqueda, no pudieron superarlo. En un entorno profesional, esto es oro: justifica el uso de un modelo más simple y rápido, ahorrando costos computacionales y de mantenimiento.\n",
        "\n",
        "* **Reveló las Limitaciones de Nuestra Búsqueda:** El \"fracaso\" de la optimización no es un fracaso del concepto, sino un indicador de que **nuestro espacio de búsqueda (`param_grid`) probablemente era subóptimo**. La lección no es \"no ajustar\", sino \"ajustar de manera más inteligente\". El proceso nos está diciendo: \"Busqué donde me indicaste y no encontré nada mejor. Quizás debas indicarme que busque en otro lugar\". Esto nos empuja a ser mejores científicos de datos, a investigar los parámetros por defecto y a proponer rangos de búsqueda más informados.\n",
        "\n",
        "En resumen, la importancia del ajuste trasciende la simple optimización. Es un **proceso de experimentación rigurosa que valida nuestras decisiones** y nos obliga a entender profundamente tanto el algoritmo como el problema.\n",
        "\n",
        "---\n",
        "\n",
        "### 2. El Cambio de Paradigma en Contextos de Mayor Escala y Complejidad 📈\n",
        "\n",
        "La dinámica que observaste cambia drásticamente —y la importancia del ajuste se magnifica— cuando enfrentamos problemas más grandes y complejos. La \"suerte\" de que un modelo base funcione bien disminuye rápidamente.\n",
        "\n",
        "#### Con Mayor Volumen de Datos (Big Data)\n",
        "\n",
        "A medida que el volumen de datos crece, ocurren dos cosas:\n",
        "\n",
        "1.  **Emergen Patrones Más Sutiles:** Un dataset con millones de registros contiene relaciones y patrones mucho más complejos y sutiles que uno con 768. Un modelo con parámetros genéricos es demasiado \"tosco\" para capturar estas sutilezas. El ajuste fino de hiperparámetros (como la profundidad de los árboles, el mínimo de muestras por hoja, etc.) se vuelve **absolutamente crítico** para dar al modelo la flexibilidad necesaria para aprender de estas señales complejas sin sobreajustarse al ruido.\n",
        "\n",
        "2.  **El Costo Computacional Explota:** Cada ejecución de entrenamiento es mucho más lenta y costosa. En este escenario:\n",
        "    * **Grid Search se vuelve inviable.** Probar miles de combinaciones cuando cada una toma horas es imposible.\n",
        "    * La eficiencia de **Random Search** se vuelve muy atractiva para una primera exploración.\n",
        "    * La inteligencia de la **Optimización Bayesiana (Optuna)** se convierte en una necesidad. Aunque en tu experimento fue lento, en un contexto de Big Data su capacidad para encontrar mejores soluciones con muchas menos iteraciones representa un ahorro masivo de tiempo y dinero. Su mayor costo por iteración es insignificante comparado con el costo de las decenas o cientos de iteraciones que ahorra.\n",
        "\n",
        "#### Con Mayor Complejidad del Modelo (Ej. Redes Neuronales, Gradient Boosting)\n",
        "\n",
        "Cuando pasamos de un `Random Forest` a modelos como XGBoost, LightGBM o redes neuronales profundas, el panorama cambia aún más:\n",
        "\n",
        "1.  **El Espacio de Búsqueda es Enorme:** Estos modelos no tienen 4 o 5 hiperparámetros clave, sino docenas. La tasa de aprendizaje, la regularización L1/L2, el dropout, el número de capas, el número de neuronas, el momentum, etc., crean un espacio de búsqueda de altísima dimensionalidad. En este contexto, la probabilidad de que los parámetros por defecto sean óptimos es **prácticamente cero**.\n",
        "\n",
        "2.  **Las Interacciones son Complejas:** Los hiperparámetros no actúan de forma aislada; interactúan entre sí de maneras complejas y no intuitivas. Por ejemplo, la tasa de aprendizaje óptima depende del número de estimadores, y la regularización óptima depende de la arquitectura de la red. Navegar estas interacciones manualmente es imposible. El ajuste deja de ser una \"mejora\" y se convierte en la **única forma factible de construir un modelo funcional y de alto rendimiento.**\n",
        "\n",
        "### Conclusión Final\n",
        "\n",
        "La importancia del ajuste de hiperparámetros es contextual, pero siempre fundamental.\n",
        "\n",
        "* **En problemas simples**, como el tuyo, actúa como una herramienta crucial de **validación y diagnóstico**. Te ayuda a confirmar si una solución simple es suficiente o te guía para buscar en mejores lugares.\n",
        "* **En problemas complejos y a gran escala**, el ajuste deja de ser una opción y se convierte en el **corazón del proceso de modelado**. Es la diferencia entre un modelo mediocre que no captura la riqueza de los datos y un modelo de vanguardia que extrae el máximo valor predictivo posible, proporcionando una ventaja competitiva decisiva."
      ],
      "metadata": {
        "id": "aYAClCulbnAl"
      }
    }
  ],
  "metadata": {
    "colab": {
      "provenance": []
    },
    "kernelspec": {
      "display_name": "Python 3",
      "name": "python3"
    }
  },
  "nbformat": 4,
  "nbformat_minor": 0
}