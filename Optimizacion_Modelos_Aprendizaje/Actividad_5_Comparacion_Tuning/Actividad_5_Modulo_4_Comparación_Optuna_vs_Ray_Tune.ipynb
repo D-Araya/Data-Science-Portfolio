{
  "cells": [
    {
      "cell_type": "markdown",
      "source": [
        "### **Comparación de Estrategias de Tuning Automático: Optuna vs. Ray Tune**\n",
        "\n",
        "  * **Objetivo:** Aplicar y comparar las librerías **Optuna** y **Ray Tune** para optimizar los hiperparámetros de un modelo `RandomForestClassifier`. El rendimiento se evaluará sobre el conjunto de datos de Cáncer de Mama de Scikit-learn, utilizando el F1-score como métrica principal.\n",
        "  * **Modelo:** RandomForestClassifier\n",
        "  * **Dataset:** Breast Cancer Wisconsin (Diagnostic)\n",
        "  * **Métrica:** F1-Score\n",
        "\n",
        "-----\n",
        "\n",
        "### 1\\. Carga y Preprocesamiento de Datos 📊\n",
        "\n",
        "Primero, cargamos el conjunto de datos de cáncer de mama directamente desde `scikit-learn`. Este dataset contiene 569 muestras y 30 características numéricas. La tarea es clasificar los tumores como **malignos (0)** o **benignos (1)**.\n",
        "\n",
        "El preprocesamiento es un paso crucial:\n",
        "\n",
        "  * **Separación de Variables:** Dividimos el dataset en características (`X`) y la variable objetivo (`y`).\n",
        "  * **División de Datos:** Particionamos los datos en un conjunto de entrenamiento (70%) y uno de prueba (30%). Usamos `random_state` para asegurar la reproducibilidad de los resultados.\n",
        "  * **Escalado de Variables:** Aplicamos `StandardScaler` para estandarizar las características. Esto asegura que todas las variables tengan la misma escala (media 0 y desviación estándar 1), lo cual es fundamental para el rendimiento de muchos algoritmos de Machine Learning.\n",
        "\n",
        "<!-- end list -->"
      ],
      "metadata": {
        "id": "1nEONCnQTa4h"
      }
    },
    {
      "cell_type": "code",
      "source": [
        "!pip install optuna"
      ],
      "metadata": {
        "colab": {
          "base_uri": "https://localhost:8080/"
        },
        "collapsed": true,
        "id": "bPCCjGjzhBpI",
        "outputId": "bd433c29-63ab-4b4f-9045-b3304097c14d"
      },
      "execution_count": 2,
      "outputs": [
        {
          "output_type": "stream",
          "name": "stdout",
          "text": [
            "Collecting optuna\n",
            "  Downloading optuna-4.4.0-py3-none-any.whl.metadata (17 kB)\n",
            "Collecting alembic>=1.5.0 (from optuna)\n",
            "  Downloading alembic-1.16.4-py3-none-any.whl.metadata (7.3 kB)\n",
            "Collecting colorlog (from optuna)\n",
            "  Downloading colorlog-6.9.0-py3-none-any.whl.metadata (10 kB)\n",
            "Requirement already satisfied: numpy in /usr/local/lib/python3.11/dist-packages (from optuna) (2.0.2)\n",
            "Requirement already satisfied: packaging>=20.0 in /usr/local/lib/python3.11/dist-packages (from optuna) (24.2)\n",
            "Requirement already satisfied: sqlalchemy>=1.4.2 in /usr/local/lib/python3.11/dist-packages (from optuna) (2.0.41)\n",
            "Requirement already satisfied: tqdm in /usr/local/lib/python3.11/dist-packages (from optuna) (4.67.1)\n",
            "Requirement already satisfied: PyYAML in /usr/local/lib/python3.11/dist-packages (from optuna) (6.0.2)\n",
            "Requirement already satisfied: Mako in /usr/lib/python3/dist-packages (from alembic>=1.5.0->optuna) (1.1.3)\n",
            "Requirement already satisfied: typing-extensions>=4.12 in /usr/local/lib/python3.11/dist-packages (from alembic>=1.5.0->optuna) (4.14.1)\n",
            "Requirement already satisfied: greenlet>=1 in /usr/local/lib/python3.11/dist-packages (from sqlalchemy>=1.4.2->optuna) (3.2.3)\n",
            "Downloading optuna-4.4.0-py3-none-any.whl (395 kB)\n",
            "\u001b[2K   \u001b[90m━━━━━━━━━━━━━━━━━━━━━━━━━━━━━━━━━━━━━━━━\u001b[0m \u001b[32m395.9/395.9 kB\u001b[0m \u001b[31m7.4 MB/s\u001b[0m eta \u001b[36m0:00:00\u001b[0m\n",
            "\u001b[?25hDownloading alembic-1.16.4-py3-none-any.whl (247 kB)\n",
            "\u001b[2K   \u001b[90m━━━━━━━━━━━━━━━━━━━━━━━━━━━━━━━━━━━━━━━━\u001b[0m \u001b[32m247.0/247.0 kB\u001b[0m \u001b[31m12.5 MB/s\u001b[0m eta \u001b[36m0:00:00\u001b[0m\n",
            "\u001b[?25hDownloading colorlog-6.9.0-py3-none-any.whl (11 kB)\n",
            "Installing collected packages: colorlog, alembic, optuna\n",
            "Successfully installed alembic-1.16.4 colorlog-6.9.0 optuna-4.4.0\n"
          ]
        }
      ]
    },
    {
      "cell_type": "code",
      "source": [
        "!pip install ray[tune]"
      ],
      "metadata": {
        "colab": {
          "base_uri": "https://localhost:8080/"
        },
        "collapsed": true,
        "id": "M_OqTcUxhInV",
        "outputId": "6e3ccc3b-2258-478d-99c4-881969aaa720"
      },
      "execution_count": 3,
      "outputs": [
        {
          "output_type": "stream",
          "name": "stdout",
          "text": [
            "Collecting ray[tune]\n",
            "  Downloading ray-2.47.1-cp311-cp311-manylinux2014_x86_64.whl.metadata (20 kB)\n",
            "Requirement already satisfied: click>=7.0 in /usr/local/lib/python3.11/dist-packages (from ray[tune]) (8.2.1)\n",
            "Requirement already satisfied: filelock in /usr/local/lib/python3.11/dist-packages (from ray[tune]) (3.18.0)\n",
            "Requirement already satisfied: jsonschema in /usr/local/lib/python3.11/dist-packages (from ray[tune]) (4.24.0)\n",
            "Requirement already satisfied: msgpack<2.0.0,>=1.0.0 in /usr/local/lib/python3.11/dist-packages (from ray[tune]) (1.1.1)\n",
            "Requirement already satisfied: packaging in /usr/local/lib/python3.11/dist-packages (from ray[tune]) (24.2)\n",
            "Requirement already satisfied: protobuf!=3.19.5,>=3.15.3 in /usr/local/lib/python3.11/dist-packages (from ray[tune]) (5.29.5)\n",
            "Requirement already satisfied: pyyaml in /usr/local/lib/python3.11/dist-packages (from ray[tune]) (6.0.2)\n",
            "Requirement already satisfied: requests in /usr/local/lib/python3.11/dist-packages (from ray[tune]) (2.32.3)\n",
            "Requirement already satisfied: pandas in /usr/local/lib/python3.11/dist-packages (from ray[tune]) (2.2.2)\n",
            "Collecting tensorboardX>=1.9 (from ray[tune])\n",
            "  Downloading tensorboardx-2.6.4-py3-none-any.whl.metadata (6.2 kB)\n",
            "Requirement already satisfied: pyarrow>=9.0.0 in /usr/local/lib/python3.11/dist-packages (from ray[tune]) (18.1.0)\n",
            "Requirement already satisfied: fsspec in /usr/local/lib/python3.11/dist-packages (from ray[tune]) (2025.3.2)\n",
            "Requirement already satisfied: numpy in /usr/local/lib/python3.11/dist-packages (from tensorboardX>=1.9->ray[tune]) (2.0.2)\n",
            "Requirement already satisfied: attrs>=22.2.0 in /usr/local/lib/python3.11/dist-packages (from jsonschema->ray[tune]) (25.3.0)\n",
            "Requirement already satisfied: jsonschema-specifications>=2023.03.6 in /usr/local/lib/python3.11/dist-packages (from jsonschema->ray[tune]) (2025.4.1)\n",
            "Requirement already satisfied: referencing>=0.28.4 in /usr/local/lib/python3.11/dist-packages (from jsonschema->ray[tune]) (0.36.2)\n",
            "Requirement already satisfied: rpds-py>=0.7.1 in /usr/local/lib/python3.11/dist-packages (from jsonschema->ray[tune]) (0.26.0)\n",
            "Requirement already satisfied: python-dateutil>=2.8.2 in /usr/local/lib/python3.11/dist-packages (from pandas->ray[tune]) (2.9.0.post0)\n",
            "Requirement already satisfied: pytz>=2020.1 in /usr/local/lib/python3.11/dist-packages (from pandas->ray[tune]) (2025.2)\n",
            "Requirement already satisfied: tzdata>=2022.7 in /usr/local/lib/python3.11/dist-packages (from pandas->ray[tune]) (2025.2)\n",
            "Requirement already satisfied: charset-normalizer<4,>=2 in /usr/local/lib/python3.11/dist-packages (from requests->ray[tune]) (3.4.2)\n",
            "Requirement already satisfied: idna<4,>=2.5 in /usr/local/lib/python3.11/dist-packages (from requests->ray[tune]) (3.10)\n",
            "Requirement already satisfied: urllib3<3,>=1.21.1 in /usr/local/lib/python3.11/dist-packages (from requests->ray[tune]) (2.4.0)\n",
            "Requirement already satisfied: certifi>=2017.4.17 in /usr/local/lib/python3.11/dist-packages (from requests->ray[tune]) (2025.7.9)\n",
            "Requirement already satisfied: six>=1.5 in /usr/local/lib/python3.11/dist-packages (from python-dateutil>=2.8.2->pandas->ray[tune]) (1.17.0)\n",
            "Requirement already satisfied: typing-extensions>=4.4.0 in /usr/local/lib/python3.11/dist-packages (from referencing>=0.28.4->jsonschema->ray[tune]) (4.14.1)\n",
            "Downloading tensorboardx-2.6.4-py3-none-any.whl (87 kB)\n",
            "\u001b[2K   \u001b[90m━━━━━━━━━━━━━━━━━━━━━━━━━━━━━━━━━━━━━━━━\u001b[0m \u001b[32m87.2/87.2 kB\u001b[0m \u001b[31m3.6 MB/s\u001b[0m eta \u001b[36m0:00:00\u001b[0m\n",
            "\u001b[?25hDownloading ray-2.47.1-cp311-cp311-manylinux2014_x86_64.whl (68.9 MB)\n",
            "\u001b[2K   \u001b[90m━━━━━━━━━━━━━━━━━━━━━━━━━━━━━━━━━━━━━━━━\u001b[0m \u001b[32m68.9/68.9 MB\u001b[0m \u001b[31m8.5 MB/s\u001b[0m eta \u001b[36m0:00:00\u001b[0m\n",
            "\u001b[?25hInstalling collected packages: tensorboardX, ray\n",
            "Successfully installed ray-2.47.1 tensorboardX-2.6.4\n"
          ]
        }
      ]
    },
    {
      "cell_type": "code",
      "source": [
        "# Importación de librerías necesarias\n",
        "import pandas as pd\n",
        "import time\n",
        "from sklearn.datasets import load_breast_cancer\n",
        "from sklearn.model_selection import train_test_split\n",
        "from sklearn.preprocessing import StandardScaler\n",
        "from sklearn.ensemble import RandomForestClassifier\n",
        "from sklearn.metrics import f1_score, classification_report\n",
        "import optuna\n",
        "import ray\n",
        "from ray import tune\n",
        "\n",
        "# 1. CARGA Y PREPROCESAMIENTO\n",
        "\n",
        "# Cargar el conjunto de datos de cáncer de mama\n",
        "cancer_dataset = load_breast_cancer()\n",
        "# Crear un DataFrame de pandas para facilitar la manipulación\n",
        "# Las características están en 'data' y los nombres de las columnas en 'feature_names'\n",
        "X = pd.DataFrame(cancer_dataset.data, columns=cancer_dataset.feature_names)\n",
        "# La variable objetivo (0: maligno, 1: benigno) está en 'target'\n",
        "y = pd.Series(cancer_dataset.target)\n",
        "\n",
        "# Dividir los datos en conjuntos de entrenamiento (70%) y prueba (30%)\n",
        "# random_state=42 asegura que la división sea siempre la misma para reproducibilidad\n",
        "X_train, X_test, y_train, y_test = train_test_split(X, y, test_size=0.3, random_state=42)\n",
        "\n",
        "# Inicializar el escalador estándar\n",
        "scaler = StandardScaler()\n",
        "# Ajustar el escalador SÓLO con los datos de entrenamiento para evitar fuga de datos\n",
        "# y transformar el conjunto de entrenamiento\n",
        "X_train_scaled = scaler.fit_transform(X_train)\n",
        "# Aplicar la MISMA transformación al conjunto de prueba\n",
        "X_test_scaled = scaler.transform(X_test)\n",
        "\n",
        "print(\"### 1. Carga y Preprocesamiento de Datos ###\")\n",
        "print(f\"Forma del conjunto de entrenamiento (X_train): {X_train_scaled.shape}\")\n",
        "print(f\"Forma del conjunto de prueba (X_test): {X_test_scaled.shape}\")\n",
        "print(\"\\nPrimeras 5 filas de datos (sin escalar):\")\n",
        "print(X.head())"
      ],
      "outputs": [
        {
          "output_type": "stream",
          "name": "stdout",
          "text": [
            "### 1. Carga y Preprocesamiento de Datos ###\n",
            "Forma del conjunto de entrenamiento (X_train): (398, 30)\n",
            "Forma del conjunto de prueba (X_test): (171, 30)\n",
            "\n",
            "Primeras 5 filas de datos (sin escalar):\n",
            "   mean radius  mean texture  mean perimeter  mean area  mean smoothness  \\\n",
            "0        17.99         10.38          122.80     1001.0          0.11840   \n",
            "1        20.57         17.77          132.90     1326.0          0.08474   \n",
            "2        19.69         21.25          130.00     1203.0          0.10960   \n",
            "3        11.42         20.38           77.58      386.1          0.14250   \n",
            "4        20.29         14.34          135.10     1297.0          0.10030   \n",
            "\n",
            "   mean compactness  mean concavity  mean concave points  mean symmetry  \\\n",
            "0           0.27760          0.3001              0.14710         0.2419   \n",
            "1           0.07864          0.0869              0.07017         0.1812   \n",
            "2           0.15990          0.1974              0.12790         0.2069   \n",
            "3           0.28390          0.2414              0.10520         0.2597   \n",
            "4           0.13280          0.1980              0.10430         0.1809   \n",
            "\n",
            "   mean fractal dimension  ...  worst radius  worst texture  worst perimeter  \\\n",
            "0                 0.07871  ...         25.38          17.33           184.60   \n",
            "1                 0.05667  ...         24.99          23.41           158.80   \n",
            "2                 0.05999  ...         23.57          25.53           152.50   \n",
            "3                 0.09744  ...         14.91          26.50            98.87   \n",
            "4                 0.05883  ...         22.54          16.67           152.20   \n",
            "\n",
            "   worst area  worst smoothness  worst compactness  worst concavity  \\\n",
            "0      2019.0            0.1622             0.6656           0.7119   \n",
            "1      1956.0            0.1238             0.1866           0.2416   \n",
            "2      1709.0            0.1444             0.4245           0.4504   \n",
            "3       567.7            0.2098             0.8663           0.6869   \n",
            "4      1575.0            0.1374             0.2050           0.4000   \n",
            "\n",
            "   worst concave points  worst symmetry  worst fractal dimension  \n",
            "0                0.2654          0.4601                  0.11890  \n",
            "1                0.1860          0.2750                  0.08902  \n",
            "2                0.2430          0.3613                  0.08758  \n",
            "3                0.2575          0.6638                  0.17300  \n",
            "4                0.1625          0.2364                  0.07678  \n",
            "\n",
            "[5 rows x 30 columns]\n"
          ]
        }
      ],
      "execution_count": 4,
      "metadata": {
        "colab": {
          "base_uri": "https://localhost:8080/"
        },
        "id": "nyzeNdiVTa4j",
        "outputId": "1310a59c-c2f7-4190-b2e2-1217b1d01a32"
      }
    },
    {
      "cell_type": "markdown",
      "source": [
        "-----\n",
        "\n",
        "### 2\\. Modelo Base (Sin Tuning) 🎯\n",
        "\n",
        "Antes de aplicar técnicas de optimización, entrenamos un `RandomForestClassifier` con sus hiperparámetros por defecto. Este modelo nos servirá como **punto de referencia (baseline)** para medir si las técnicas de tuning realmente aportan una mejora. Evaluamos su rendimiento calculando el `f1_score`, una métrica robusta que balancea la precisión y el recall, ideal para problemas de clasificación."
      ],
      "metadata": {
        "id": "GhteXImdTa4k"
      }
    },
    {
      "cell_type": "code",
      "source": [
        "# 2. MODELO BASE\n",
        "\n",
        "# Inicializar el clasificador con parámetros por defecto para reproducibilidad\n",
        "base_model = RandomForestClassifier(random_state=42)\n",
        "\n",
        "# Medir el tiempo de entrenamiento\n",
        "start_time_base = time.time()\n",
        "# Entrenar el modelo con los datos de entrenamiento escalados\n",
        "base_model.fit(X_train_scaled, y_train)\n",
        "end_time_base = time.time()\n",
        "# Calcular el tiempo total de entrenamiento\n",
        "training_time_base = end_time_base - start_time_base\n",
        "\n",
        "# Realizar predicciones en el conjunto de prueba\n",
        "y_pred_base = base_model.predict(X_test_scaled)\n",
        "\n",
        "# Calcular el F1-Score para evaluar el rendimiento\n",
        "f1_base = f1_score(y_test, y_pred_base)\n",
        "\n",
        "# Imprimir las métricas de evaluación del modelo base\n",
        "print(\"\\n### 2. Resultados del Modelo Base ###\")\n",
        "print(f\"F1-Score: {f1_base:.4f}\")\n",
        "print(f\"Tiempo de entrenamiento: {training_time_base:.4f} segundos\")\n",
        "print(\"\\nReporte de Clasificación del Modelo Base:\")\n",
        "print(classification_report(y_test, y_pred_base))"
      ],
      "outputs": [
        {
          "output_type": "stream",
          "name": "stdout",
          "text": [
            "\n",
            "### 2. Resultados del Modelo Base ###\n",
            "F1-Score: 0.9772\n",
            "Tiempo de entrenamiento: 0.2771 segundos\n",
            "\n",
            "Reporte de Clasificación del Modelo Base:\n",
            "              precision    recall  f1-score   support\n",
            "\n",
            "           0       0.98      0.94      0.96        63\n",
            "           1       0.96      0.99      0.98       108\n",
            "\n",
            "    accuracy                           0.97       171\n",
            "   macro avg       0.97      0.96      0.97       171\n",
            "weighted avg       0.97      0.97      0.97       171\n",
            "\n"
          ]
        }
      ],
      "execution_count": 5,
      "metadata": {
        "colab": {
          "base_uri": "https://localhost:8080/"
        },
        "id": "0jhm_JU7Ta4k",
        "outputId": "ea6325b3-60f3-4333-e5d5-51dc2a2670a4"
      }
    },
    {
      "cell_type": "markdown",
      "source": [
        "-----\n",
        "\n",
        "### 3\\. Aplicación de Optuna 🔎\n",
        "\n",
        "**Optuna** es una librería de optimización de hiperparámetros moderna y fácil de usar. Su principal ventaja es su API pitónica y su capacidad para \"podar\" (pruning) de forma inteligente los *trials* (intentos) que no parecen prometedores.\n",
        "\n",
        "Definimos una función `objective` que Optuna intentará maximizar. Dentro de esta función:\n",
        "\n",
        "1.  **Definimos el espacio de búsqueda:** Indicamos a Optuna los rangos de valores para `n_estimators`, `max_depth` y `min_samples_split`.\n",
        "2.  **Entrenamos el modelo:** Se instancia un `RandomForestClassifier` con la combinación de hiperparámetros sugerida por el `trial`.\n",
        "3.  **Evaluamos y devolvemos el F1-Score:** Optuna usa este valor para decidir cómo continuar la búsqueda.\n",
        "\n",
        "Ejecutamos el estudio durante 20 `trials` para explorar el espacio de búsqueda."
      ],
      "metadata": {
        "id": "-Di7KmxJTa4k"
      }
    },
    {
      "cell_type": "code",
      "source": [
        "# 3. APLICACIÓN DE OPTUNA\n",
        "\n",
        "# Definir la función objetivo que Optuna debe maximizar\n",
        "def objective(trial):\n",
        "    # Definir el espacio de búsqueda de hiperparámetros\n",
        "    # trial.suggest_int sugiere un entero dentro de un rango\n",
        "    n_estimators = trial.suggest_int('n_estimators', 50, 400)\n",
        "    max_depth = trial.suggest_int('max_depth', 10, 50)\n",
        "    min_samples_split = trial.suggest_int('min_samples_split', 2, 15)\n",
        "\n",
        "    # Crear el modelo con los hiperparámetros sugeridos\n",
        "    model = RandomForestClassifier(\n",
        "        n_estimators=n_estimators,\n",
        "        max_depth=max_depth,\n",
        "        min_samples_split=min_samples_split,\n",
        "        random_state=42,\n",
        "        n_jobs=-1 # Usar todos los procesadores\n",
        "    )\n",
        "\n",
        "    # Entrenar el modelo\n",
        "    model.fit(X_train_scaled, y_train)\n",
        "\n",
        "    # Realizar predicciones\n",
        "    y_pred = model.predict(X_test_scaled)\n",
        "\n",
        "    # Calcular y devolver el F1-Score\n",
        "    return f1_score(y_test, y_pred)\n",
        "\n",
        "# Medir el tiempo total de la búsqueda\n",
        "start_time_optuna = time.time()\n",
        "\n",
        "# Crear un estudio de Optuna para maximizar el F1-Score\n",
        "# La dirección 'maximize' indica que queremos el valor más alto posible para la función objetivo\n",
        "study = optuna.create_study(direction='maximize')\n",
        "# Iniciar la optimización con 20 trials (20 combinaciones de hiperparámetros)\n",
        "study.optimize(objective, n_trials=20)\n",
        "\n",
        "end_time_optuna = time.time()\n",
        "# Calcular el tiempo total de la búsqueda\n",
        "search_time_optuna = end_time_optuna - start_time_optuna\n",
        "\n",
        "# Obtener los mejores hiperparámetros encontrados\n",
        "best_params_optuna = study.best_params\n",
        "# Obtener el mejor F1-score obtenido durante la búsqueda\n",
        "best_f1_optuna = study.best_value\n",
        "\n",
        "# Imprimir los resultados\n",
        "print(\"\\n### 3. Resultados de Optuna ###\")\n",
        "print(f\"Mejores Hiperparámetros: {best_params_optuna}\")\n",
        "print(f\"Mejor F1-Score (en la búsqueda): {best_f1_optuna:.4f}\")\n",
        "print(f\"Tiempo de búsqueda: {search_time_optuna:.4f} segundos\")"
      ],
      "outputs": [
        {
          "output_type": "stream",
          "name": "stderr",
          "text": [
            "[I 2025-07-15 01:40:18,772] A new study created in memory with name: no-name-168ba10a-61b4-4fbf-bcb6-7b56f78dbf87\n",
            "[I 2025-07-15 01:40:19,263] Trial 0 finished with value: 0.9724770642201835 and parameters: {'n_estimators': 170, 'max_depth': 17, 'min_samples_split': 12}. Best is trial 0 with value: 0.9724770642201835.\n",
            "[I 2025-07-15 01:40:19,933] Trial 1 finished with value: 0.9771689497716894 and parameters: {'n_estimators': 217, 'max_depth': 37, 'min_samples_split': 8}. Best is trial 1 with value: 0.9771689497716894.\n",
            "[I 2025-07-15 01:40:20,801] Trial 2 finished with value: 0.9771689497716894 and parameters: {'n_estimators': 275, 'max_depth': 22, 'min_samples_split': 6}. Best is trial 1 with value: 0.9771689497716894.\n",
            "[I 2025-07-15 01:40:21,192] Trial 3 finished with value: 0.9724770642201835 and parameters: {'n_estimators': 120, 'max_depth': 45, 'min_samples_split': 9}. Best is trial 1 with value: 0.9771689497716894.\n",
            "[I 2025-07-15 01:40:22,290] Trial 4 finished with value: 0.9724770642201835 and parameters: {'n_estimators': 376, 'max_depth': 18, 'min_samples_split': 10}. Best is trial 1 with value: 0.9771689497716894.\n",
            "[I 2025-07-15 01:40:22,956] Trial 5 finished with value: 0.9771689497716894 and parameters: {'n_estimators': 211, 'max_depth': 31, 'min_samples_split': 8}. Best is trial 1 with value: 0.9771689497716894.\n",
            "[I 2025-07-15 01:40:23,549] Trial 6 finished with value: 0.9771689497716894 and parameters: {'n_estimators': 195, 'max_depth': 38, 'min_samples_split': 11}. Best is trial 1 with value: 0.9771689497716894.\n",
            "[I 2025-07-15 01:40:23,904] Trial 7 finished with value: 0.9724770642201835 and parameters: {'n_estimators': 111, 'max_depth': 22, 'min_samples_split': 5}. Best is trial 1 with value: 0.9771689497716894.\n",
            "[I 2025-07-15 01:40:25,080] Trial 8 finished with value: 0.9724770642201835 and parameters: {'n_estimators': 392, 'max_depth': 11, 'min_samples_split': 9}. Best is trial 1 with value: 0.9771689497716894.\n",
            "[I 2025-07-15 01:40:26,122] Trial 9 finished with value: 0.9724770642201835 and parameters: {'n_estimators': 342, 'max_depth': 16, 'min_samples_split': 9}. Best is trial 1 with value: 0.9771689497716894.\n",
            "[I 2025-07-15 01:40:26,329] Trial 10 finished with value: 0.9724770642201835 and parameters: {'n_estimators': 59, 'max_depth': 50, 'min_samples_split': 15}. Best is trial 1 with value: 0.9771689497716894.\n",
            "[I 2025-07-15 01:40:27,232] Trial 11 finished with value: 0.9724770642201835 and parameters: {'n_estimators': 288, 'max_depth': 29, 'min_samples_split': 4}. Best is trial 1 with value: 0.9771689497716894.\n",
            "[I 2025-07-15 01:40:28,194] Trial 12 finished with value: 0.9771689497716894 and parameters: {'n_estimators': 275, 'max_depth': 30, 'min_samples_split': 6}. Best is trial 1 with value: 0.9771689497716894.\n",
            "[I 2025-07-15 01:40:29,451] Trial 13 finished with value: 0.9771689497716894 and parameters: {'n_estimators': 271, 'max_depth': 36, 'min_samples_split': 2}. Best is trial 1 with value: 0.9771689497716894.\n",
            "[I 2025-07-15 01:40:30,634] Trial 14 finished with value: 0.9771689497716894 and parameters: {'n_estimators': 247, 'max_depth': 24, 'min_samples_split': 7}. Best is trial 1 with value: 0.9771689497716894.\n",
            "[I 2025-07-15 01:40:31,646] Trial 15 finished with value: 0.9771689497716894 and parameters: {'n_estimators': 320, 'max_depth': 41, 'min_samples_split': 2}. Best is trial 1 with value: 0.9771689497716894.\n",
            "[I 2025-07-15 01:40:32,152] Trial 16 finished with value: 0.9724770642201835 and parameters: {'n_estimators': 168, 'max_depth': 25, 'min_samples_split': 13}. Best is trial 1 with value: 0.9771689497716894.\n",
            "[I 2025-07-15 01:40:32,840] Trial 17 finished with value: 0.9724770642201835 and parameters: {'n_estimators': 235, 'max_depth': 35, 'min_samples_split': 4}. Best is trial 1 with value: 0.9771689497716894.\n",
            "[I 2025-07-15 01:40:33,796] Trial 18 finished with value: 0.9771689497716894 and parameters: {'n_estimators': 315, 'max_depth': 10, 'min_samples_split': 7}. Best is trial 1 with value: 0.9771689497716894.\n",
            "[I 2025-07-15 01:40:34,240] Trial 19 finished with value: 0.9771689497716894 and parameters: {'n_estimators': 139, 'max_depth': 43, 'min_samples_split': 6}. Best is trial 1 with value: 0.9771689497716894.\n"
          ]
        },
        {
          "output_type": "stream",
          "name": "stdout",
          "text": [
            "\n",
            "### 3. Resultados de Optuna ###\n",
            "Mejores Hiperparámetros: {'n_estimators': 217, 'max_depth': 37, 'min_samples_split': 8}\n",
            "Mejor F1-Score (en la búsqueda): 0.9772\n",
            "Tiempo de búsqueda: 15.4700 segundos\n"
          ]
        }
      ],
      "execution_count": 6,
      "metadata": {
        "colab": {
          "base_uri": "https://localhost:8080/"
        },
        "id": "uD_7z2erTa4k",
        "outputId": "4bf0c546-ccce-49bd-e195-e28246471199"
      }
    },
    {
      "cell_type": "markdown",
      "source": [
        "-----\n",
        "\n",
        "### 4\\. Aplicación de Ray Tune ⚡\n",
        "\n",
        "**Ray Tune** es un framework de optimización de hiperparámetros diseñado para ser escalable y permitir la computación distribuida. Aunque su configuración inicial es un poco más compleja que la de Optuna, su poder reside en su capacidad para paralelizar la búsqueda en múltiples CPUs o incluso en un clúster de máquinas.\n",
        "\n",
        "El proceso es similar:\n",
        "\n",
        "1.  **Definir una función entrenable:** Esta función recibe un diccionario `config` con los hiperparámetros.\n",
        "2.  **Especificar el espacio de búsqueda:** Se crea un diccionario donde las llaves son los nombres de los hiperparámetros y los valores son distribuciones de Ray Tune (ej. `tune.randint`).\n",
        "3.  **Ejecutar la búsqueda:** `tune.run` gestiona la ejecución, probando 20 combinaciones (`num_samples`) y reportando el `f1_score` para maximizarlo.\n",
        "\n",
        "<!-- end list -->"
      ],
      "metadata": {
        "id": "NUGovJx3Ta4k"
      }
    },
    {
      "cell_type": "code",
      "source": [
        "# 4. APLICACIÓN DE RAY TUNE\n",
        "\n",
        "# Inicializar Ray (si ya está corriendo, no hace nada)\n",
        "ray.init(ignore_reinit_error=True, logging_level=30) # Reducir verbosidad\n",
        "\n",
        "# Definir la función entrenable que Ray Tune ejecutará\n",
        "def trainable_rf(config):\n",
        "    # Crear el modelo con los hiperparámetros del diccionario 'config'\n",
        "    model = RandomForestClassifier(\n",
        "        n_estimators=config[\"n_estimators\"],\n",
        "        max_depth=config[\"max_depth\"],\n",
        "        min_samples_split=config[\"min_samples_split\"],\n",
        "        random_state=42,\n",
        "        n_jobs=-1\n",
        "    )\n",
        "    # Entrenar el modelo\n",
        "    model.fit(X_train_scaled, y_train)\n",
        "    # Realizar predicciones\n",
        "    y_pred = model.predict(X_test_scaled)\n",
        "    # Calcular el F1-Score\n",
        "    f1 = f1_score(y_test, y_pred)\n",
        "    # Reportar la métrica a Ray Tune\n",
        "    tune.report({\"f1_score\": f1})\n",
        "\n",
        "# Definir el espacio de búsqueda para Ray Tune\n",
        "# Es análogo al de Optuna, pero con la sintaxis de Ray\n",
        "search_space = {\n",
        "    \"n_estimators\": tune.randint(50, 401),\n",
        "    \"max_depth\": tune.randint(10, 51),\n",
        "    \"min_samples_split\": tune.randint(2, 16)\n",
        "}\n",
        "\n",
        "# Medir el tiempo total de la búsqueda\n",
        "start_time_ray = time.time()\n",
        "\n",
        "# Ejecutar la optimización con Ray Tune\n",
        "analysis = tune.run(\n",
        "    trainable_rf,          # La función a optimizar\n",
        "    config=search_space,       # El espacio de búsqueda\n",
        "    num_samples=20,            # Número de combinaciones a probar (trials)\n",
        "    metric=\"f1_score\",         # Métrica a optimizar\n",
        "    mode=\"max\",                # Queremos maximizar esta métrica\n",
        "    verbose=0                  # Reducir los mensajes en la consola\n",
        ")\n",
        "\n",
        "end_time_ray = time.time()\n",
        "# Calcular el tiempo total de la búsqueda\n",
        "search_time_ray = end_time_ray - start_time_ray\n",
        "\n",
        "# Obtener la mejor configuración (hiperparámetros) encontrada\n",
        "best_params_ray = analysis.best_config\n",
        "# Obtener el mejor F1-score\n",
        "best_f1_ray = analysis.best_result[\"f1_score\"]\n",
        "\n",
        "# Imprimir los resultados\n",
        "print(\"\\n### 4. Resultados de Ray Tune ###\")\n",
        "print(f\"Mejores Hiperparámetros: {best_params_ray}\")\n",
        "print(f\"Mejor F1-Score: {best_f1_ray:.4f}\")\n",
        "print(f\"Tiempo de búsqueda: {search_time_ray:.4f} segundos\")\n",
        "\n",
        "# Detener Ray para liberar recursos\n",
        "ray.shutdown()"
      ],
      "outputs": [
        {
          "output_type": "stream",
          "name": "stdout",
          "text": [
            "+---------------------------------------------------------------------+\n",
            "| Configuration for experiment     trainable_rf_2025-07-15_02-02-20   |\n",
            "+---------------------------------------------------------------------+\n",
            "| Search algorithm                 BasicVariantGenerator              |\n",
            "| Scheduler                        FIFOScheduler                      |\n",
            "| Number of trials                 20                                 |\n",
            "+---------------------------------------------------------------------+\n",
            "\n",
            "View detailed results here: /root/ray_results/trainable_rf_2025-07-15_02-02-20\n",
            "To visualize your results with TensorBoard, run: `tensorboard --logdir /tmp/ray/session_2025-07-15_01-49-34_081384_509/artifacts/2025-07-15_02-02-20/trainable_rf_2025-07-15_02-02-20/driver_artifacts`\n",
            "\n",
            "\n",
            "### 4. Resultados de Ray Tune ###\n",
            "Mejores Hiperparámetros: {'n_estimators': 219, 'max_depth': 17, 'min_samples_split': 2}\n",
            "Mejor F1-Score: 0.9772\n",
            "Tiempo de búsqueda: 141.3193 segundos\n"
          ]
        }
      ],
      "execution_count": 9,
      "metadata": {
        "colab": {
          "base_uri": "https://localhost:8080/"
        },
        "id": "NXfx7eksTa4l",
        "outputId": "ad592440-6e3b-4482-df45-0ca4d16a7e0f"
      }
    },
    {
      "cell_type": "markdown",
      "source": [
        "-----\n",
        "\n",
        "### 5\\. Comparación de Resultados 📈\n",
        "\n",
        "Para facilitar el análisis, consolidamos los resultados de los tres enfoques (Base, Optuna y Ray Tune) en una tabla comparativa. Esto nos permite contrastar de un vistazo el rendimiento (F1-Score), el costo computacional (tiempo) y el número de combinaciones probadas."
      ],
      "metadata": {
        "id": "bVZppVcKTa4l"
      }
    },
    {
      "cell_type": "code",
      "source": [
        "# 5. COMPARACIÓN DE RESULTADOS\n",
        "\n",
        "# Crear un DataFrame para comparar los resultados de manera ordenada\n",
        "comparison_data = {\n",
        "    'Modelo': ['Base', 'Optuna', 'Ray Tune'],\n",
        "    'F1-Score': [f1_base, best_f1_optuna, best_f1_ray],\n",
        "    'Mejores Hiperparámetros': ['Por defecto', str(best_params_optuna), str(best_params_ray)],\n",
        "    'Combinaciones Probadas': [1, 20, 20],\n",
        "    'Tiempo (s)': [training_time_base, search_time_optuna, search_time_ray]\n",
        "}\n",
        "# Redondear para mejor visualización\n",
        "comparison_df = pd.DataFrame(comparison_data)\n",
        "comparison_df['F1-Score'] = comparison_df['F1-Score'].round(4)\n",
        "comparison_df['Tiempo (s)'] = comparison_df['Tiempo (s)'].round(4)\n",
        "\n",
        "\n",
        "# Imprimir la tabla de comparación\n",
        "print(\"\\n### 5. Tabla de Comparación de Modelos ###\")\n",
        "print(comparison_df.to_string())"
      ],
      "outputs": [
        {
          "output_type": "stream",
          "name": "stdout",
          "text": [
            "\n",
            "### 5. Tabla de Comparación de Modelos ###\n",
            "     Modelo  F1-Score                                         Mejores Hiperparámetros  Combinaciones Probadas  Tiempo (s)\n",
            "0      Base    0.9772                                                     Por defecto                       1      0.2771\n",
            "1    Optuna    0.9772  {'n_estimators': 217, 'max_depth': 37, 'min_samples_split': 8}                      20     15.4700\n",
            "2  Ray Tune    0.9772  {'n_estimators': 219, 'max_depth': 17, 'min_samples_split': 2}                      20    141.3193\n"
          ]
        }
      ],
      "execution_count": 10,
      "metadata": {
        "colab": {
          "base_uri": "https://localhost:8080/"
        },
        "id": "IymDWpSdTa4l",
        "outputId": "5b946afc-99e0-42d8-a7fd-af10603992d9"
      }
    },
    {
      "cell_type": "markdown",
      "source": [
        "-----\n",
        "\n",
        "### 6\\. Reflexión Final y Análisis 🧠\n",
        "\n",
        "El resultado más revelador de esta comparación es que **ninguna de las técnicas de optimización (Optuna y Ray Tune) logró mejorar el F1-Score del modelo base**. Los tres enfoques alcanzaron un F1-Score idéntico de **0.9772**. Esto sugiere que para este conjunto de datos específico, los hiperparámetros por defecto del `RandomForestClassifier` de Scikit-learn ya son excepcionalmente buenos.\n",
        "\n",
        "Con esta métrica clave siendo igual en todos los casos, la comparación se centra casi exclusivamente en la **eficiencia computacional (tiempo) y la complejidad**.\n",
        "\n",
        "-----\n",
        "\n",
        "### **Visualización Comparativa 📊**\n",
        "\n",
        "Un gráfico de barras es ideal para visualizar la diferencia drástica en el tiempo de ejecución. Dado que la diferencia de magnitud es tan grande, usaremos una **escala logarítmica** en el eje Y para poder apreciar la diferencia entre el modelo Base y Optuna, que de otro modo sería invisible en comparación con Ray Tune."
      ],
      "metadata": {
        "id": "xTfs1yqXtH2L"
      }
    },
    {
      "cell_type": "code",
      "source": [
        "import pandas as pd\n",
        "import matplotlib.pyplot as plt\n",
        "\n",
        "# Recrear los datos del DataFrame para la visualización\n",
        "comparison_data = {\n",
        "    'Modelo': ['Base', 'Optuna', 'Ray Tune'],\n",
        "    'F1-Score': [0.9772, 0.9772, 0.9772],\n",
        "    'Tiempo (s)': [0.2771, 15.4700, 141.3193]\n",
        "}\n",
        "comparison_df = pd.DataFrame(comparison_data)\n",
        "\n",
        "# Crear el gráfico de barras\n",
        "plt.figure(figsize=(10, 6))\n",
        "bars = plt.bar(comparison_df['Modelo'], comparison_df['Tiempo (s)'], color=['#4CAF50', '#2196F3', '#FFC107'])\n",
        "\n",
        "# Usar escala logarítmica para una mejor visualización de las diferencias\n",
        "plt.yscale('log')\n",
        "\n",
        "# Añadir etiquetas y título\n",
        "plt.ylabel('Tiempo de Ejecución (s) - Escala Logarítmica')\n",
        "plt.xlabel('Enfoque del Modelo')\n",
        "plt.title('Comparación de Tiempos de Ejecución')\n",
        "\n",
        "# Añadir el valor de tiempo encima de cada barra\n",
        "for bar in bars:\n",
        "    yval = bar.get_height()\n",
        "    plt.text(bar.get_x() + bar.get_width()/2.0, yval, f'{yval:.2f}s', va='bottom', ha='center') # va: vertical alignment\n",
        "\n",
        "plt.show()"
      ],
      "metadata": {
        "colab": {
          "base_uri": "https://localhost:8080/",
          "height": 565
        },
        "id": "QgRIAYg1tIVY",
        "outputId": "f179eeeb-7332-4dd5-fbbd-87e25cbadd26"
      },
      "execution_count": 11,
      "outputs": [
        {
          "output_type": "display_data",
          "data": {
            "text/plain": [
              "<Figure size 1000x600 with 1 Axes>"
            ],
            "image/png": "[encoded data removed]"
          },
          "metadata": {}
        }
      ]
    },
    {
      "cell_type": "markdown",
      "source": [
        "El gráfico ilustra de manera contundente el costo computacional de cada enfoque. Mientras que el modelo base es casi instantáneo, Ray Tune es órdenes de magnitud más lento que Optuna para esta tarea.\n",
        "\n",
        "-----\n",
        "\n",
        "### **Reflexión sobre Cada Enfoque 🧠**\n",
        "\n",
        "#### **Modelo Base (Sin Tuning)**\n",
        "\n",
        "  * **Ventajas:**\n",
        "      * **Eficiencia Máxima:** Con un tiempo de solo **0.28 segundos**, es, por mucho, el método más rápido.\n",
        "      * **Rendimiento Óptimo:** En este caso particular, logró el mejor F1-Score posible sin ningún costo de optimización.\n",
        "      * **Simplicidad Extrema:** No requiere librerías adicionales ni configuración compleja. Es la línea de partida ideal.\n",
        "  * **Desventajas:**\n",
        "      * **Dependencia de la Suerte:** Su éxito aquí es una casualidad afortunada. En la gran mayoría de los problemas, los parámetros por defecto no son los óptimos y confiar en ellos puede llevar a un rendimiento deficiente. No es una estrategia robusta a largo plazo.\n",
        "\n",
        "#### **Optuna**\n",
        "\n",
        "  * **Ventajas:**\n",
        "      * **Búsqueda Relativamente Rápida:** Aunque fue significativamente más lento que el modelo base, completó 20 pruebas en solo **15 segundos**. Esto demuestra que tiene una sobrecarga (overhead) muy baja, haciéndolo ideal para optimizaciones rápidas en una sola máquina.\n",
        "      * **Facilidad de Uso:** Su API es intuitiva y se integra de forma muy natural en un flujo de trabajo de Python.\n",
        "  * **Desventajas:**\n",
        "      * **Costo sin Beneficio (en este caso):** Su principal desventaja aquí fue que invirtió tiempo y recursos computacionales para no obtener ninguna mejora en el rendimiento. El esfuerzo de optimización no se tradujo en un mejor modelo.\n",
        "\n",
        "#### **Ray Tune**\n",
        "\n",
        "  * **Ventajas:**\n",
        "      * **Potencial de Escalabilidad:** Su única ventaja teórica en este contexto. Ray Tune está diseñado para la computación distribuida, permitiendo escalar la búsqueda de hiperparámetros a través de múltiples núcleos de CPU o incluso a un clúster de máquinas. Si necesitáramos ejecutar miles de pruebas, sería la herramienta adecuada.\n",
        "  * **Desventajas:**\n",
        "      * **Sobrecarga (Overhead) Masiva:** Esta es su debilidad más evidente aquí. Tardó **141 segundos**, casi **10 veces más que Optuna**, para realizar la misma tarea. La gestión del paralelismo y su arquitectura de escalabilidad introducen un costo computacional fijo muy alto que lo hace ineficiente para problemas a pequeña escala.\n",
        "      * **Complejidad Innecesaria:** Para una optimización en una sola máquina, su poder es excesivo y contraproducente, resultando en una espera mucho mayor para obtener el mismo resultado que las otras técnicas.\n",
        "\n",
        "En resumen, para este problema, el **modelo base fue el \"ganador\" indiscutible** por ofrecer el mismo rendimiento en una fracción del tiempo. Entre las herramientas de tuning, **Optuna demostró ser mucho más adecuado y eficiente que Ray Tune** para una tarea de esta escala."
      ],
      "metadata": {
        "id": "iBJeDx-btQpr"
      }
    },
    {
      "cell_type": "code",
      "source": [],
      "metadata": {
        "id": "1lCDPY99tRJH"
      },
      "execution_count": null,
      "outputs": []
    }
  ],
  "metadata": {
    "colab": {
      "provenance": []
    },
    "kernelspec": {
      "display_name": "Python 3",
      "name": "python3"
    }
  },
  "nbformat": 4,
  "nbformat_minor": 0
}